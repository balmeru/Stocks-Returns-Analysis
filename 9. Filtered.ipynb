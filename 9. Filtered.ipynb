{
 "cells": [
  {
   "cell_type": "code",
   "execution_count": 1,
   "id": "d1108754-1f64-4874-b0f5-3d34f41de04f",
   "metadata": {},
   "outputs": [
    {
     "name": "stdout",
     "output_type": "stream",
     "text": [
      "The updated first pivot with only common columns has been saved to /Users/balmeru/Downloads/filtered_weekly_returns_1984.csv\n"
     ]
    }
   ],
   "source": [
    "import pandas as pd\n",
    "first_csv_path = \"/Users/balmeru/Downloads/weekly_pivot_1984.csv\"  # Change to the path of your first CSV\n",
    "second_csv_path = \"/Users/balmeru/Downloads/True_False_1984.csv\"  # Change to the path of your second CSV\n",
    "\n",
    "first_pivot = pd.read_csv(first_csv_path, index_col=0) \n",
    "second_pivot = pd.read_csv(second_csv_path, index_col=0) \n",
    "common_columns = first_pivot.columns.intersection(second_pivot.columns)\n",
    "filtered_first_pivot = first_pivot[common_columns]  \n",
    "\n",
    "filtered_csv_path = \"/Users/balmeru/Downloads/filtered_weekly_returns_1984.csv\"  # Change to your desired output path\n",
    "filtered_first_pivot.to_csv(filtered_csv_path)\n",
    "\n",
    "print(f\"The updated first pivot with only common columns has been saved to {filtered_csv_path}\")"
   ]
  },
  {
   "cell_type": "code",
   "execution_count": 2,
   "id": "c738e8d6-3582-490a-8289-dd69d971362a",
   "metadata": {},
   "outputs": [
    {
     "name": "stdout",
     "output_type": "stream",
     "text": [
      "The updated first pivot with only common columns has been saved to /Users/balmeru/Downloads/filtered_weekly_returns_1985.csv\n"
     ]
    }
   ],
   "source": [
    "import pandas as pd\n",
    "first_csv_path = \"/Users/balmeru/Downloads/weekly_pivot_1985.csv\"  # Change to the path of your first CSV\n",
    "second_csv_path = \"/Users/balmeru/Downloads/True_False_1985.csv\"  # Change to the path of your second CSV\n",
    "\n",
    "first_pivot = pd.read_csv(first_csv_path, index_col=0) \n",
    "second_pivot = pd.read_csv(second_csv_path, index_col=0) \n",
    "common_columns = first_pivot.columns.intersection(second_pivot.columns)\n",
    "filtered_first_pivot = first_pivot[common_columns]  \n",
    "\n",
    "filtered_csv_path = \"/Users/balmeru/Downloads/filtered_weekly_returns_1985.csv\"  # Change to your desired output path\n",
    "filtered_first_pivot.to_csv(filtered_csv_path)\n",
    "\n",
    "print(f\"The updated first pivot with only common columns has been saved to {filtered_csv_path}\")"
   ]
  },
  {
   "cell_type": "code",
   "execution_count": 3,
   "id": "a6c2addd-9922-40b5-8c93-8ab6a6b78937",
   "metadata": {},
   "outputs": [
    {
     "name": "stdout",
     "output_type": "stream",
     "text": [
      "The updated first pivot with only common columns has been saved to /Users/balmeru/Downloads/filtered_weekly_returns_1986.csv\n"
     ]
    }
   ],
   "source": [
    "import pandas as pd\n",
    "first_csv_path = \"/Users/balmeru/Downloads/weekly_pivot_1986.csv\"  # Change to the path of your first CSV\n",
    "second_csv_path = \"/Users/balmeru/Downloads/True_False_1986.csv\"  # Change to the path of your second CSV\n",
    "\n",
    "first_pivot = pd.read_csv(first_csv_path, index_col=0) \n",
    "second_pivot = pd.read_csv(second_csv_path, index_col=0) \n",
    "common_columns = first_pivot.columns.intersection(second_pivot.columns)\n",
    "filtered_first_pivot = first_pivot[common_columns]  \n",
    "\n",
    "filtered_csv_path = \"/Users/balmeru/Downloads/filtered_weekly_returns_1986.csv\"  # Change to your desired output path\n",
    "filtered_first_pivot.to_csv(filtered_csv_path)\n",
    "\n",
    "print(f\"The updated first pivot with only common columns has been saved to {filtered_csv_path}\")"
   ]
  },
  {
   "cell_type": "code",
   "execution_count": 4,
   "id": "fec3e310-3a2e-4771-8f43-c8ca2e023e75",
   "metadata": {},
   "outputs": [
    {
     "name": "stdout",
     "output_type": "stream",
     "text": [
      "The updated first pivot with only common columns has been saved to /Users/balmeru/Downloads/filtered_weekly_returns_1987.csv\n"
     ]
    }
   ],
   "source": [
    "import pandas as pd\n",
    "first_csv_path = \"/Users/balmeru/Downloads/weekly_pivot_1987.csv\"  # Change to the path of your first CSV\n",
    "second_csv_path = \"/Users/balmeru/Downloads/True_False_1987.csv\"  # Change to the path of your second CSV\n",
    "\n",
    "first_pivot = pd.read_csv(first_csv_path, index_col=0) \n",
    "second_pivot = pd.read_csv(second_csv_path, index_col=0) \n",
    "common_columns = first_pivot.columns.intersection(second_pivot.columns)\n",
    "filtered_first_pivot = first_pivot[common_columns]  \n",
    "\n",
    "filtered_csv_path = \"/Users/balmeru/Downloads/filtered_weekly_returns_1987.csv\"  # Change to your desired output path\n",
    "filtered_first_pivot.to_csv(filtered_csv_path)\n",
    "\n",
    "print(f\"The updated first pivot with only common columns has been saved to {filtered_csv_path}\")"
   ]
  },
  {
   "cell_type": "code",
   "execution_count": 5,
   "id": "48d324e3-d7d2-4f76-8cef-f93996fd9a27",
   "metadata": {},
   "outputs": [
    {
     "name": "stdout",
     "output_type": "stream",
     "text": [
      "The updated first pivot with only common columns has been saved to /Users/balmeru/Downloads/filtered_weekly_returns_1988.csv\n"
     ]
    }
   ],
   "source": [
    "import pandas as pd\n",
    "first_csv_path = \"/Users/balmeru/Downloads/weekly_pivot_1988.csv\"  # Change to the path of your first CSV\n",
    "second_csv_path = \"/Users/balmeru/Downloads/True_False_1988.csv\"  # Change to the path of your second CSV\n",
    "\n",
    "first_pivot = pd.read_csv(first_csv_path, index_col=0) \n",
    "second_pivot = pd.read_csv(second_csv_path, index_col=0) \n",
    "common_columns = first_pivot.columns.intersection(second_pivot.columns)\n",
    "filtered_first_pivot = first_pivot[common_columns]  \n",
    "\n",
    "filtered_csv_path = \"/Users/balmeru/Downloads/filtered_weekly_returns_1988.csv\"  # Change to your desired output path\n",
    "filtered_first_pivot.to_csv(filtered_csv_path)\n",
    "\n",
    "print(f\"The updated first pivot with only common columns has been saved to {filtered_csv_path}\")"
   ]
  },
  {
   "cell_type": "code",
   "execution_count": 6,
   "id": "c46e312d-65d1-4726-92dd-68e030008207",
   "metadata": {},
   "outputs": [
    {
     "name": "stdout",
     "output_type": "stream",
     "text": [
      "The updated first pivot with only common columns has been saved to /Users/balmeru/Downloads/filtered_weekly_returns_1989.csv\n"
     ]
    }
   ],
   "source": [
    "import pandas as pd\n",
    "first_csv_path = \"/Users/balmeru/Downloads/weekly_pivot_1989.csv\"  # Change to the path of your first CSV\n",
    "second_csv_path = \"/Users/balmeru/Downloads/True_False_1989.csv\"  # Change to the path of your second CSV\n",
    "\n",
    "first_pivot = pd.read_csv(first_csv_path, index_col=0) \n",
    "second_pivot = pd.read_csv(second_csv_path, index_col=0) \n",
    "common_columns = first_pivot.columns.intersection(second_pivot.columns)\n",
    "filtered_first_pivot = first_pivot[common_columns]  \n",
    "\n",
    "filtered_csv_path = \"/Users/balmeru/Downloads/filtered_weekly_returns_1989.csv\"  # Change to your desired output path\n",
    "filtered_first_pivot.to_csv(filtered_csv_path)\n",
    "\n",
    "print(f\"The updated first pivot with only common columns has been saved to {filtered_csv_path}\")"
   ]
  },
  {
   "cell_type": "code",
   "execution_count": 19,
   "id": "7b7c42a3-a0ec-4586-aadb-57149e84fc31",
   "metadata": {},
   "outputs": [
    {
     "name": "stdout",
     "output_type": "stream",
     "text": [
      "The updated first pivot with only common columns has been saved to /Users/balmeru/Downloads/filtered_weekly_returns_1990.csv\n"
     ]
    }
   ],
   "source": [
    "import pandas as pd\n",
    "first_csv_path = \"/Users/balmeru/Downloads/weekly_pivot_1990.csv\"  # Change to the path of your first CSV\n",
    "second_csv_path = \"/Users/balmeru/Downloads/True_False_1990.csv\"  # Change to the path of your second CSV\n",
    "\n",
    "first_pivot = pd.read_csv(first_csv_path, index_col=0) \n",
    "second_pivot = pd.read_csv(second_csv_path, index_col=0) \n",
    "common_columns = first_pivot.columns.intersection(second_pivot.columns)\n",
    "filtered_first_pivot = first_pivot[common_columns]  \n",
    "\n",
    "filtered_csv_path = \"/Users/balmeru/Downloads/filtered_weekly_returns_1990.csv\"  # Change to your desired output path\n",
    "filtered_first_pivot.to_csv(filtered_csv_path)\n",
    "\n",
    "print(f\"The updated first pivot with only common columns has been saved to {filtered_csv_path}\")"
   ]
  },
  {
   "cell_type": "code",
   "execution_count": 8,
   "id": "adf20e4f-fc2e-45c1-aee0-c17b8abcbdc9",
   "metadata": {},
   "outputs": [
    {
     "name": "stdout",
     "output_type": "stream",
     "text": [
      "The updated first pivot with only common columns has been saved to /Users/balmeru/Downloads/filtered_weekly_returns_1991.csv\n"
     ]
    }
   ],
   "source": [
    "import pandas as pd\n",
    "first_csv_path = \"/Users/balmeru/Downloads/weekly_pivot_1991.csv\"  # Change to the path of your first CSV\n",
    "second_csv_path = \"/Users/balmeru/Downloads/True_False_1991.csv\"  # Change to the path of your second CSV\n",
    "\n",
    "first_pivot = pd.read_csv(first_csv_path, index_col=0) \n",
    "second_pivot = pd.read_csv(second_csv_path, index_col=0) \n",
    "common_columns = first_pivot.columns.intersection(second_pivot.columns)\n",
    "filtered_first_pivot = first_pivot[common_columns]  \n",
    "\n",
    "filtered_csv_path = \"/Users/balmeru/Downloads/filtered_weekly_returns_1991.csv\"  # Change to your desired output path\n",
    "filtered_first_pivot.to_csv(filtered_csv_path)\n",
    "\n",
    "print(f\"The updated first pivot with only common columns has been saved to {filtered_csv_path}\")"
   ]
  },
  {
   "cell_type": "code",
   "execution_count": 9,
   "id": "c034add1-81a9-497f-a80f-9923b54677b8",
   "metadata": {},
   "outputs": [
    {
     "name": "stdout",
     "output_type": "stream",
     "text": [
      "The updated first pivot with only common columns has been saved to /Users/balmeru/Downloads/filtered_weekly_returns_1992.csv\n"
     ]
    }
   ],
   "source": [
    "import pandas as pd\n",
    "first_csv_path = \"/Users/balmeru/Downloads/weekly_pivot_1992.csv\"  # Change to the path of your first CSV\n",
    "second_csv_path = \"/Users/balmeru/Downloads/True_False_1992.csv\"  # Change to the path of your second CSV\n",
    "\n",
    "first_pivot = pd.read_csv(first_csv_path, index_col=0) \n",
    "second_pivot = pd.read_csv(second_csv_path, index_col=0) \n",
    "common_columns = first_pivot.columns.intersection(second_pivot.columns)\n",
    "filtered_first_pivot = first_pivot[common_columns]  \n",
    "\n",
    "filtered_csv_path = \"/Users/balmeru/Downloads/filtered_weekly_returns_1992.csv\"  # Change to your desired output path\n",
    "filtered_first_pivot.to_csv(filtered_csv_path)\n",
    "\n",
    "print(f\"The updated first pivot with only common columns has been saved to {filtered_csv_path}\")"
   ]
  },
  {
   "cell_type": "code",
   "execution_count": 10,
   "id": "a27d7302-c246-4c19-9202-3d3b409dd8b3",
   "metadata": {},
   "outputs": [
    {
     "name": "stdout",
     "output_type": "stream",
     "text": [
      "The updated first pivot with only common columns has been saved to /Users/balmeru/Downloads/filtered_weekly_returns_1993.csv\n"
     ]
    }
   ],
   "source": [
    "import pandas as pd\n",
    "first_csv_path = \"/Users/balmeru/Downloads/weekly_pivot_1993.csv\"  # Change to the path of your first CSV\n",
    "second_csv_path = \"/Users/balmeru/Downloads/True_False_1993.csv\"  # Change to the path of your second CSV\n",
    "\n",
    "first_pivot = pd.read_csv(first_csv_path, index_col=0) \n",
    "second_pivot = pd.read_csv(second_csv_path, index_col=0) \n",
    "common_columns = first_pivot.columns.intersection(second_pivot.columns)\n",
    "filtered_first_pivot = first_pivot[common_columns]  \n",
    "\n",
    "filtered_csv_path = \"/Users/balmeru/Downloads/filtered_weekly_returns_1993.csv\"  # Change to your desired output path\n",
    "filtered_first_pivot.to_csv(filtered_csv_path)\n",
    "\n",
    "print(f\"The updated first pivot with only common columns has been saved to {filtered_csv_path}\")"
   ]
  },
  {
   "cell_type": "code",
   "execution_count": 11,
   "id": "ada41d7d-8660-46e2-bc04-57c72df6be81",
   "metadata": {},
   "outputs": [
    {
     "name": "stdout",
     "output_type": "stream",
     "text": [
      "The updated first pivot with only common columns has been saved to /Users/balmeru/Downloads/filtered_weekly_returns_1994.csv\n"
     ]
    }
   ],
   "source": [
    "import pandas as pd\n",
    "first_csv_path = \"/Users/balmeru/Downloads/weekly_pivot_1994.csv\"  # Change to the path of your first CSV\n",
    "second_csv_path = \"/Users/balmeru/Downloads/True_False_1994.csv\"  # Change to the path of your second CSV\n",
    "\n",
    "first_pivot = pd.read_csv(first_csv_path, index_col=0) \n",
    "second_pivot = pd.read_csv(second_csv_path, index_col=0) \n",
    "common_columns = first_pivot.columns.intersection(second_pivot.columns)\n",
    "filtered_first_pivot = first_pivot[common_columns]  \n",
    "\n",
    "filtered_csv_path = \"/Users/balmeru/Downloads/filtered_weekly_returns_1994.csv\"  # Change to your desired output path\n",
    "filtered_first_pivot.to_csv(filtered_csv_path)\n",
    "\n",
    "print(f\"The updated first pivot with only common columns has been saved to {filtered_csv_path}\")"
   ]
  },
  {
   "cell_type": "code",
   "execution_count": 12,
   "id": "27403dfc-62d7-4049-b15c-1ceaba6abaf8",
   "metadata": {},
   "outputs": [
    {
     "name": "stdout",
     "output_type": "stream",
     "text": [
      "The updated first pivot with only common columns has been saved to /Users/balmeru/Downloads/filtered_weekly_returns_1995.csv\n"
     ]
    }
   ],
   "source": [
    "import pandas as pd\n",
    "first_csv_path = \"/Users/balmeru/Downloads/weekly_pivot_1995.csv\"  # Change to the path of your first CSV\n",
    "second_csv_path = \"/Users/balmeru/Downloads/True_False_1995.csv\"  # Change to the path of your second CSV\n",
    "\n",
    "first_pivot = pd.read_csv(first_csv_path, index_col=0) \n",
    "second_pivot = pd.read_csv(second_csv_path, index_col=0) \n",
    "common_columns = first_pivot.columns.intersection(second_pivot.columns)\n",
    "filtered_first_pivot = first_pivot[common_columns]  \n",
    "\n",
    "filtered_csv_path = \"/Users/balmeru/Downloads/filtered_weekly_returns_1995.csv\"  # Change to your desired output path\n",
    "filtered_first_pivot.to_csv(filtered_csv_path)\n",
    "\n",
    "print(f\"The updated first pivot with only common columns has been saved to {filtered_csv_path}\")"
   ]
  },
  {
   "cell_type": "code",
   "execution_count": 13,
   "id": "21c43894-593b-40e8-b718-ad2675e517f1",
   "metadata": {},
   "outputs": [
    {
     "name": "stdout",
     "output_type": "stream",
     "text": [
      "The updated first pivot with only common columns has been saved to /Users/balmeru/Downloads/filtered_weekly_returns_1996.csv\n"
     ]
    }
   ],
   "source": [
    "import pandas as pd\n",
    "first_csv_path = \"/Users/balmeru/Downloads/weekly_pivot_1996.csv\"  # Change to the path of your first CSV\n",
    "second_csv_path = \"/Users/balmeru/Downloads/True_False_1996.csv\"  # Change to the path of your second CSV\n",
    "\n",
    "first_pivot = pd.read_csv(first_csv_path, index_col=0) \n",
    "second_pivot = pd.read_csv(second_csv_path, index_col=0) \n",
    "common_columns = first_pivot.columns.intersection(second_pivot.columns)\n",
    "filtered_first_pivot = first_pivot[common_columns]  \n",
    "\n",
    "filtered_csv_path = \"/Users/balmeru/Downloads/filtered_weekly_returns_1996.csv\"  # Change to your desired output path\n",
    "filtered_first_pivot.to_csv(filtered_csv_path)\n",
    "\n",
    "print(f\"The updated first pivot with only common columns has been saved to {filtered_csv_path}\")"
   ]
  },
  {
   "cell_type": "code",
   "execution_count": 15,
   "id": "3dac05b8-edcb-41b5-a899-d4a480ecf161",
   "metadata": {},
   "outputs": [
    {
     "name": "stdout",
     "output_type": "stream",
     "text": [
      "The updated first pivot with only common columns has been saved to /Users/balmeru/Downloads/filtered_weekly_returns_1997.csv\n"
     ]
    }
   ],
   "source": [
    "import pandas as pd\n",
    "first_csv_path = \"/Users/balmeru/Downloads/weekly_pivot_1997.csv\"  # Change to the path of your first CSV\n",
    "second_csv_path = \"/Users/balmeru/Downloads/True_False_1997.csv\"  # Change to the path of your second CSV\n",
    "\n",
    "first_pivot = pd.read_csv(first_csv_path, index_col=0) \n",
    "second_pivot = pd.read_csv(second_csv_path, index_col=0) \n",
    "common_columns = first_pivot.columns.intersection(second_pivot.columns)\n",
    "filtered_first_pivot = first_pivot[common_columns]  \n",
    "\n",
    "filtered_csv_path = \"/Users/balmeru/Downloads/filtered_weekly_returns_1997.csv\"  # Change to your desired output path\n",
    "filtered_first_pivot.to_csv(filtered_csv_path)\n",
    "\n",
    "print(f\"The updated first pivot with only common columns has been saved to {filtered_csv_path}\")"
   ]
  },
  {
   "cell_type": "code",
   "execution_count": 16,
   "id": "391671da-1e2c-4fe3-91bf-4107b4c4d3b2",
   "metadata": {},
   "outputs": [
    {
     "name": "stdout",
     "output_type": "stream",
     "text": [
      "The updated first pivot with only common columns has been saved to /Users/balmeru/Downloads/filtered_weekly_returns_1998.csv\n"
     ]
    }
   ],
   "source": [
    "import pandas as pd\n",
    "first_csv_path = \"/Users/balmeru/Downloads/weekly_pivot_1998.csv\"  # Change to the path of your first CSV\n",
    "second_csv_path = \"/Users/balmeru/Downloads/True_False_1998.csv\"  # Change to the path of your second CSV\n",
    "\n",
    "first_pivot = pd.read_csv(first_csv_path, index_col=0) \n",
    "second_pivot = pd.read_csv(second_csv_path, index_col=0) \n",
    "common_columns = first_pivot.columns.intersection(second_pivot.columns)\n",
    "filtered_first_pivot = first_pivot[common_columns]  \n",
    "\n",
    "filtered_csv_path = \"/Users/balmeru/Downloads/filtered_weekly_returns_1998.csv\"  # Change to your desired output path\n",
    "filtered_first_pivot.to_csv(filtered_csv_path)\n",
    "\n",
    "print(f\"The updated first pivot with only common columns has been saved to {filtered_csv_path}\")"
   ]
  },
  {
   "cell_type": "code",
   "execution_count": 20,
   "id": "04bee5f8-ea21-4e22-8ca6-16786638054b",
   "metadata": {},
   "outputs": [
    {
     "name": "stdout",
     "output_type": "stream",
     "text": [
      "The updated first pivot with only common columns has been saved to /Users/balmeru/Downloads/filtered_weekly_returns_1999.csv\n"
     ]
    }
   ],
   "source": [
    "import pandas as pd\n",
    "first_csv_path = \"/Users/balmeru/Downloads/weekly_pivot_1999.csv\"  # Change to the path of your first CSV\n",
    "second_csv_path = \"/Users/balmeru/Downloads/True_False_1999.csv\"  # Change to the path of your second CSV\n",
    "\n",
    "first_pivot = pd.read_csv(first_csv_path, index_col=0) \n",
    "second_pivot = pd.read_csv(second_csv_path, index_col=0) \n",
    "common_columns = first_pivot.columns.intersection(second_pivot.columns)\n",
    "filtered_first_pivot = first_pivot[common_columns]  \n",
    "\n",
    "filtered_csv_path = \"/Users/balmeru/Downloads/filtered_weekly_returns_1999.csv\"  # Change to your desired output path\n",
    "filtered_first_pivot.to_csv(filtered_csv_path)\n",
    "\n",
    "print(f\"The updated first pivot with only common columns has been saved to {filtered_csv_path}\")"
   ]
  },
  {
   "cell_type": "code",
   "execution_count": 21,
   "id": "497c4007-c9fb-4071-adea-66a2de11b8dd",
   "metadata": {},
   "outputs": [
    {
     "name": "stdout",
     "output_type": "stream",
     "text": [
      "The updated first pivot with only common columns has been saved to /Users/balmeru/Downloads/filtered_weekly_returns_2000.csv\n"
     ]
    }
   ],
   "source": [
    "import pandas as pd\n",
    "first_csv_path = \"/Users/balmeru/Downloads/weekly_pivot_2000.csv\"  # Change to the path of your first CSV\n",
    "second_csv_path = \"/Users/balmeru/Downloads/True_False_2000.csv\"  # Change to the path of your second CSV\n",
    "\n",
    "first_pivot = pd.read_csv(first_csv_path, index_col=0) \n",
    "second_pivot = pd.read_csv(second_csv_path, index_col=0) \n",
    "common_columns = first_pivot.columns.intersection(second_pivot.columns)\n",
    "filtered_first_pivot = first_pivot[common_columns]  \n",
    "\n",
    "filtered_csv_path = \"/Users/balmeru/Downloads/filtered_weekly_returns_2000.csv\"  # Change to your desired output path\n",
    "filtered_first_pivot.to_csv(filtered_csv_path)\n",
    "\n",
    "print(f\"The updated first pivot with only common columns has been saved to {filtered_csv_path}\")"
   ]
  },
  {
   "cell_type": "code",
   "execution_count": 22,
   "id": "12e864fb-93dd-4acf-bad4-6ba71c45fe7a",
   "metadata": {},
   "outputs": [
    {
     "name": "stdout",
     "output_type": "stream",
     "text": [
      "The updated first pivot with only common columns has been saved to /Users/balmeru/Downloads/filtered_weekly_returns_2001.csv\n"
     ]
    }
   ],
   "source": [
    "import pandas as pd\n",
    "first_csv_path = \"/Users/balmeru/Downloads/weekly_pivot_2001.csv\"  # Change to the path of your first CSV\n",
    "second_csv_path = \"/Users/balmeru/Downloads/True_False_2001.csv\"  # Change to the path of your second CSV\n",
    "\n",
    "first_pivot = pd.read_csv(first_csv_path, index_col=0) \n",
    "second_pivot = pd.read_csv(second_csv_path, index_col=0) \n",
    "common_columns = first_pivot.columns.intersection(second_pivot.columns)\n",
    "filtered_first_pivot = first_pivot[common_columns]  \n",
    "\n",
    "filtered_csv_path = \"/Users/balmeru/Downloads/filtered_weekly_returns_2001.csv\"  # Change to your desired output path\n",
    "filtered_first_pivot.to_csv(filtered_csv_path)\n",
    "\n",
    "print(f\"The updated first pivot with only common columns has been saved to {filtered_csv_path}\")"
   ]
  },
  {
   "cell_type": "code",
   "execution_count": 23,
   "id": "d8e42b77-4e9a-4f55-9cf1-e0a6d8b2713f",
   "metadata": {},
   "outputs": [
    {
     "name": "stdout",
     "output_type": "stream",
     "text": [
      "The updated first pivot with only common columns has been saved to /Users/balmeru/Downloads/filtered_weekly_returns_2002.csv\n"
     ]
    }
   ],
   "source": [
    "import pandas as pd\n",
    "first_csv_path = \"/Users/balmeru/Downloads/weekly_pivot_2002.csv\"  # Change to the path of your first CSV\n",
    "second_csv_path = \"/Users/balmeru/Downloads/True_False_2002.csv\"  # Change to the path of your second CSV\n",
    "\n",
    "first_pivot = pd.read_csv(first_csv_path, index_col=0) \n",
    "second_pivot = pd.read_csv(second_csv_path, index_col=0) \n",
    "common_columns = first_pivot.columns.intersection(second_pivot.columns)\n",
    "filtered_first_pivot = first_pivot[common_columns]  \n",
    "\n",
    "filtered_csv_path = \"/Users/balmeru/Downloads/filtered_weekly_returns_2002.csv\"  # Change to your desired output path\n",
    "filtered_first_pivot.to_csv(filtered_csv_path)\n",
    "\n",
    "print(f\"The updated first pivot with only common columns has been saved to {filtered_csv_path}\")"
   ]
  },
  {
   "cell_type": "code",
   "execution_count": 24,
   "id": "5b0ae704-e8ca-41a9-b2f3-55acad65e998",
   "metadata": {},
   "outputs": [
    {
     "name": "stdout",
     "output_type": "stream",
     "text": [
      "The updated first pivot with only common columns has been saved to /Users/balmeru/Downloads/filtered_weekly_returns_2003.csv\n"
     ]
    }
   ],
   "source": [
    "import pandas as pd\n",
    "first_csv_path = \"/Users/balmeru/Downloads/weekly_pivot_2003.csv\"  # Change to the path of your first CSV\n",
    "second_csv_path = \"/Users/balmeru/Downloads/True_False_2003.csv\"  # Change to the path of your second CSV\n",
    "\n",
    "first_pivot = pd.read_csv(first_csv_path, index_col=0) \n",
    "second_pivot = pd.read_csv(second_csv_path, index_col=0) \n",
    "common_columns = first_pivot.columns.intersection(second_pivot.columns)\n",
    "filtered_first_pivot = first_pivot[common_columns]  \n",
    "\n",
    "filtered_csv_path = \"/Users/balmeru/Downloads/filtered_weekly_returns_2003.csv\"  # Change to your desired output path\n",
    "filtered_first_pivot.to_csv(filtered_csv_path)\n",
    "\n",
    "print(f\"The updated first pivot with only common columns has been saved to {filtered_csv_path}\")"
   ]
  },
  {
   "cell_type": "code",
   "execution_count": 25,
   "id": "659a2c81-bfb1-4f28-ae97-e5be710e5e8f",
   "metadata": {},
   "outputs": [
    {
     "name": "stdout",
     "output_type": "stream",
     "text": [
      "The updated first pivot with only common columns has been saved to /Users/balmeru/Downloads/filtered_weekly_returns_2004.csv\n"
     ]
    }
   ],
   "source": [
    "import pandas as pd\n",
    "first_csv_path = \"/Users/balmeru/Downloads/weekly_pivot_2004.csv\"  # Change to the path of your first CSV\n",
    "second_csv_path = \"/Users/balmeru/Downloads/True_False_2004.csv\"  # Change to the path of your second CSV\n",
    "\n",
    "first_pivot = pd.read_csv(first_csv_path, index_col=0) \n",
    "second_pivot = pd.read_csv(second_csv_path, index_col=0) \n",
    "common_columns = first_pivot.columns.intersection(second_pivot.columns)\n",
    "filtered_first_pivot = first_pivot[common_columns]  \n",
    "\n",
    "filtered_csv_path = \"/Users/balmeru/Downloads/filtered_weekly_returns_2004.csv\"  # Change to your desired output path\n",
    "filtered_first_pivot.to_csv(filtered_csv_path)\n",
    "\n",
    "print(f\"The updated first pivot with only common columns has been saved to {filtered_csv_path}\")"
   ]
  },
  {
   "cell_type": "code",
   "execution_count": 26,
   "id": "7a6811f3-c4ba-48ff-b3ac-140649a7cd53",
   "metadata": {},
   "outputs": [
    {
     "name": "stdout",
     "output_type": "stream",
     "text": [
      "The updated first pivot with only common columns has been saved to /Users/balmeru/Downloads/filtered_weekly_returns_2005.csv\n"
     ]
    }
   ],
   "source": [
    "import pandas as pd\n",
    "first_csv_path = \"/Users/balmeru/Downloads/weekly_pivot_2005.csv\"  # Change to the path of your first CSV\n",
    "second_csv_path = \"/Users/balmeru/Downloads/True_False_2005.csv\"  # Change to the path of your second CSV\n",
    "\n",
    "first_pivot = pd.read_csv(first_csv_path, index_col=0) \n",
    "second_pivot = pd.read_csv(second_csv_path, index_col=0) \n",
    "common_columns = first_pivot.columns.intersection(second_pivot.columns)\n",
    "filtered_first_pivot = first_pivot[common_columns]  \n",
    "\n",
    "filtered_csv_path = \"/Users/balmeru/Downloads/filtered_weekly_returns_2005.csv\"  # Change to your desired output path\n",
    "filtered_first_pivot.to_csv(filtered_csv_path)\n",
    "\n",
    "print(f\"The updated first pivot with only common columns has been saved to {filtered_csv_path}\")"
   ]
  },
  {
   "cell_type": "code",
   "execution_count": 27,
   "id": "464c3b40-661a-49c3-b990-3ae79fd96446",
   "metadata": {},
   "outputs": [
    {
     "name": "stdout",
     "output_type": "stream",
     "text": [
      "The updated first pivot with only common columns has been saved to /Users/balmeru/Downloads/filtered_weekly_returns_2006.csv\n"
     ]
    }
   ],
   "source": [
    "import pandas as pd\n",
    "first_csv_path = \"/Users/balmeru/Downloads/weekly_pivot_2006.csv\"  # Change to the path of your first CSV\n",
    "second_csv_path = \"/Users/balmeru/Downloads/True_False_2006.csv\"  # Change to the path of your second CSV\n",
    "\n",
    "first_pivot = pd.read_csv(first_csv_path, index_col=0) \n",
    "second_pivot = pd.read_csv(second_csv_path, index_col=0) \n",
    "common_columns = first_pivot.columns.intersection(second_pivot.columns)\n",
    "filtered_first_pivot = first_pivot[common_columns]  \n",
    "\n",
    "filtered_csv_path = \"/Users/balmeru/Downloads/filtered_weekly_returns_2006.csv\"  # Change to your desired output path\n",
    "filtered_first_pivot.to_csv(filtered_csv_path)\n",
    "\n",
    "print(f\"The updated first pivot with only common columns has been saved to {filtered_csv_path}\")"
   ]
  },
  {
   "cell_type": "code",
   "execution_count": 28,
   "id": "4d6c0bcf-8829-4958-aa2d-c6d743ba65e7",
   "metadata": {},
   "outputs": [
    {
     "name": "stdout",
     "output_type": "stream",
     "text": [
      "The updated first pivot with only common columns has been saved to /Users/balmeru/Downloads/filtered_weekly_returns_2007.csv\n"
     ]
    }
   ],
   "source": [
    "import pandas as pd\n",
    "first_csv_path = \"/Users/balmeru/Downloads/weekly_pivot_2007.csv\"  # Change to the path of your first CSV\n",
    "second_csv_path = \"/Users/balmeru/Downloads/True_False_2007.csv\"  # Change to the path of your second CSV\n",
    "\n",
    "first_pivot = pd.read_csv(first_csv_path, index_col=0) \n",
    "second_pivot = pd.read_csv(second_csv_path, index_col=0) \n",
    "common_columns = first_pivot.columns.intersection(second_pivot.columns)\n",
    "filtered_first_pivot = first_pivot[common_columns]  \n",
    "\n",
    "filtered_csv_path = \"/Users/balmeru/Downloads/filtered_weekly_returns_2007.csv\"  # Change to your desired output path\n",
    "filtered_first_pivot.to_csv(filtered_csv_path)\n",
    "\n",
    "print(f\"The updated first pivot with only common columns has been saved to {filtered_csv_path}\")"
   ]
  },
  {
   "cell_type": "code",
   "execution_count": 29,
   "id": "31f8d886-6e0a-4f2e-8a86-f35b21a48c29",
   "metadata": {},
   "outputs": [
    {
     "name": "stdout",
     "output_type": "stream",
     "text": [
      "The updated first pivot with only common columns has been saved to /Users/balmeru/Downloads/filtered_weekly_returns_2008.csv\n"
     ]
    }
   ],
   "source": [
    "import pandas as pd\n",
    "first_csv_path = \"/Users/balmeru/Downloads/weekly_pivot_2008.csv\"  # Change to the path of your first CSV\n",
    "second_csv_path = \"/Users/balmeru/Downloads/True_False_2008.csv\"  # Change to the path of your second CSV\n",
    "\n",
    "first_pivot = pd.read_csv(first_csv_path, index_col=0) \n",
    "second_pivot = pd.read_csv(second_csv_path, index_col=0) \n",
    "common_columns = first_pivot.columns.intersection(second_pivot.columns)\n",
    "filtered_first_pivot = first_pivot[common_columns]  \n",
    "\n",
    "filtered_csv_path = \"/Users/balmeru/Downloads/filtered_weekly_returns_2008.csv\"  # Change to your desired output path\n",
    "filtered_first_pivot.to_csv(filtered_csv_path)\n",
    "\n",
    "print(f\"The updated first pivot with only common columns has been saved to {filtered_csv_path}\")"
   ]
  },
  {
   "cell_type": "code",
   "execution_count": 30,
   "id": "012e8652-28e7-4ac6-ae1f-2e646469a5cb",
   "metadata": {},
   "outputs": [
    {
     "name": "stdout",
     "output_type": "stream",
     "text": [
      "The updated first pivot with only common columns has been saved to /Users/balmeru/Downloads/filtered_weekly_returns_2009.csv\n"
     ]
    }
   ],
   "source": [
    "import pandas as pd\n",
    "first_csv_path = \"/Users/balmeru/Downloads/weekly_pivot_2009.csv\"  # Change to the path of your first CSV\n",
    "second_csv_path = \"/Users/balmeru/Downloads/True_False_2009.csv\"  # Change to the path of your second CSV\n",
    "\n",
    "first_pivot = pd.read_csv(first_csv_path, index_col=0) \n",
    "second_pivot = pd.read_csv(second_csv_path, index_col=0) \n",
    "common_columns = first_pivot.columns.intersection(second_pivot.columns)\n",
    "filtered_first_pivot = first_pivot[common_columns]  \n",
    "\n",
    "filtered_csv_path = \"/Users/balmeru/Downloads/filtered_weekly_returns_2009.csv\"  # Change to your desired output path\n",
    "filtered_first_pivot.to_csv(filtered_csv_path)\n",
    "\n",
    "print(f\"The updated first pivot with only common columns has been saved to {filtered_csv_path}\")"
   ]
  },
  {
   "cell_type": "code",
   "execution_count": 31,
   "id": "41025d14-3a57-4825-86f2-76d07e7a1631",
   "metadata": {},
   "outputs": [
    {
     "name": "stdout",
     "output_type": "stream",
     "text": [
      "The updated first pivot with only common columns has been saved to /Users/balmeru/Downloads/filtered_weekly_returns_2010.csv\n"
     ]
    }
   ],
   "source": [
    "import pandas as pd\n",
    "first_csv_path = \"/Users/balmeru/Downloads/weekly_pivot_2010.csv\"  # Change to the path of your first CSV\n",
    "second_csv_path = \"/Users/balmeru/Downloads/True_False_2010.csv\"  # Change to the path of your second CSV\n",
    "\n",
    "first_pivot = pd.read_csv(first_csv_path, index_col=0) \n",
    "second_pivot = pd.read_csv(second_csv_path, index_col=0) \n",
    "common_columns = first_pivot.columns.intersection(second_pivot.columns)\n",
    "filtered_first_pivot = first_pivot[common_columns]  \n",
    "\n",
    "filtered_csv_path = \"/Users/balmeru/Downloads/filtered_weekly_returns_2010.csv\"  # Change to your desired output path\n",
    "filtered_first_pivot.to_csv(filtered_csv_path)\n",
    "\n",
    "print(f\"The updated first pivot with only common columns has been saved to {filtered_csv_path}\")"
   ]
  },
  {
   "cell_type": "code",
   "execution_count": 32,
   "id": "23a37434-e539-412b-9bbd-bd242c763715",
   "metadata": {},
   "outputs": [
    {
     "name": "stdout",
     "output_type": "stream",
     "text": [
      "The updated first pivot with only common columns has been saved to /Users/balmeru/Downloads/filtered_weekly_returns_2011.csv\n"
     ]
    }
   ],
   "source": [
    "import pandas as pd\n",
    "first_csv_path = \"/Users/balmeru/Downloads/weekly_pivot_2011.csv\"  # Change to the path of your first CSV\n",
    "second_csv_path = \"/Users/balmeru/Downloads/True_False_2011.csv\"  # Change to the path of your second CSV\n",
    "\n",
    "first_pivot = pd.read_csv(first_csv_path, index_col=0) \n",
    "second_pivot = pd.read_csv(second_csv_path, index_col=0) \n",
    "common_columns = first_pivot.columns.intersection(second_pivot.columns)\n",
    "filtered_first_pivot = first_pivot[common_columns]  \n",
    "\n",
    "filtered_csv_path = \"/Users/balmeru/Downloads/filtered_weekly_returns_2011.csv\"  # Change to your desired output path\n",
    "filtered_first_pivot.to_csv(filtered_csv_path)\n",
    "\n",
    "print(f\"The updated first pivot with only common columns has been saved to {filtered_csv_path}\")"
   ]
  },
  {
   "cell_type": "code",
   "execution_count": 33,
   "id": "70f29e52-0309-4e48-b862-4be8f8d07ee4",
   "metadata": {},
   "outputs": [
    {
     "name": "stdout",
     "output_type": "stream",
     "text": [
      "The updated first pivot with only common columns has been saved to /Users/balmeru/Downloads/filtered_weekly_returns_2012.csv\n"
     ]
    }
   ],
   "source": [
    "import pandas as pd\n",
    "first_csv_path = \"/Users/balmeru/Downloads/weekly_pivot_2012.csv\"  # Change to the path of your first CSV\n",
    "second_csv_path = \"/Users/balmeru/Downloads/True_False_2012.csv\"  # Change to the path of your second CSV\n",
    "\n",
    "first_pivot = pd.read_csv(first_csv_path, index_col=0) \n",
    "second_pivot = pd.read_csv(second_csv_path, index_col=0) \n",
    "common_columns = first_pivot.columns.intersection(second_pivot.columns)\n",
    "filtered_first_pivot = first_pivot[common_columns]  \n",
    "\n",
    "filtered_csv_path = \"/Users/balmeru/Downloads/filtered_weekly_returns_2012.csv\"  # Change to your desired output path\n",
    "filtered_first_pivot.to_csv(filtered_csv_path)\n",
    "\n",
    "print(f\"The updated first pivot with only common columns has been saved to {filtered_csv_path}\")"
   ]
  },
  {
   "cell_type": "code",
   "execution_count": null,
   "id": "86bf353c-acdd-46b8-864f-ca0ef1979eee",
   "metadata": {},
   "outputs": [],
   "source": []
  }
 ],
 "metadata": {
  "kernelspec": {
   "display_name": "Python 3 (ipykernel)",
   "language": "python",
   "name": "python3"
  },
  "language_info": {
   "codemirror_mode": {
    "name": "ipython",
    "version": 3
   },
   "file_extension": ".py",
   "mimetype": "text/x-python",
   "name": "python",
   "nbconvert_exporter": "python",
   "pygments_lexer": "ipython3",
   "version": "3.11.7"
  }
 },
 "nbformat": 4,
 "nbformat_minor": 5
}
