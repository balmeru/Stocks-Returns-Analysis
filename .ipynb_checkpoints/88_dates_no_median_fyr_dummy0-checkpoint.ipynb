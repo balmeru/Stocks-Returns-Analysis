{
 "cells": [
  {
   "cell_type": "code",
   "execution_count": null,
   "id": "6ed821b4-694f-437a-87a6-812e3237dbdb",
   "metadata": {},
   "outputs": [],
   "source": [
    "import pandas as pd\n",
    "import numpy as np\n",
    "from datetime import timedelta\n",
    "\n",
    "# Load data\n",
    "csv_file_path = \"/Users/balmeru/Downloads/median_fyrchange_dates.csv\"\n",
    "df = pd.read_csv(csv_file_path)\n",
    "df['rdq'] = pd.to_datetime(df['rdq'], errors='coerce')\n",
    "\n",
    "df['txdbq'] = df['txdbq'].fillna(0)\n",
    "df['dvpq'] = df['dvpq'].fillna(0)\n",
    "\n",
    "df.loc[:, \"income_good\"] = False\n",
    "df.loc[~df[\"ibq\"].isna(), \"income_good\"] = True\n",
    "\n",
    "#1\n",
    "df.loc[:, \"se1_good\"] = False\n",
    "df.loc[~df[\"teqq\"].isna(), \"se1_good\"] = True\n",
    "\n",
    "#2\n",
    "df.loc[:, \"se2_good\"] = False\n",
    "df.loc[~df[\"ceqq\"].isna() & ~df[\"pstkq\"].isna(), \"se2_good\"] = True\n",
    "\n",
    "#3\n",
    "df.loc[:, \"se3_good\"] = False\n",
    "df.loc[~df[\"atq\"].isna() & ~df[\"ltq\"].isna(), \"se3_good\"] = True\n",
    "\n",
    "\n",
    "# Filter out cases where fyr_change is False and conditions for income_good and se goods are met\n",
    "df_filtered = df[(df['income_good'] == True) & ((df['se1_good'] == True) | (df['se2_good'] == True) | (df['se3_good'] == True))]\n",
    "target_year = 1988\n",
    "reference_year = 1987\n",
    "expected_dates = []\n",
    "for tic in df_filtered['tic'].unique():\n",
    "    tic_data = df_filtered[\n",
    "        (df_filtered['tic'] == tic) & \n",
    "        (df_filtered['fyearq'] == reference_year)\n",
    "    ]  \n",
    "    for quarter in range(1, 5):\n",
    "        quarter_data = tic_data[\n",
    "            (tic_data['fqtr'] == quarter)\n",
    "        ]\n",
    "        \n",
    "        if not quarter_data.empty:\n",
    "            reference_date = quarter_data['rdq'].iloc[0]\n",
    "            expected_date = reference_date + timedelta(weeks=52)\n",
    "        else:\n",
    "            expected_date = np.nan  \n",
    "        \n",
    "        expected_dates.append({\n",
    "            'quarter': f\"1988Q{quarter}\",  \n",
    "            'tic': tic,                   \n",
    "            'expected_announcement_date': expected_date  \n",
    "        })\n",
    "expected_dates_df = pd.DataFrame(expected_dates)\n",
    "expected_dates_df['quarter'] = pd.Categorical(expected_dates_df['quarter'], categories=['1988Q1', '1988Q2', '1988Q3', '1988Q4'], ordered=True)\n",
    "\n",
    "pivot_table = expected_dates_df.pivot_table(\n",
    "    index='quarter',   \n",
    "    columns='tic',    \n",
    "    values='expected_announcement_date'  \n",
    ")\n",
    "\n",
    "pivot_table_cleaned = pivot_table.dropna(axis=1, how='all')\n",
    "print(\"Pivot Table corrected for both early and late reporting:\")\n",
    "print(pivot_table_cleaned)\n",
    "\n"
   ]
  },
  {
   "cell_type": "code",
   "execution_count": null,
   "id": "63e34216-b002-4d48-9847-1d9b5e2074a6",
   "metadata": {},
   "outputs": [],
   "source": [
    "pivot_table_cleaned.to_csv('expected_dates_1988.csv', index=True)"
   ]
  },
  {
   "cell_type": "code",
   "execution_count": null,
   "id": "4f420fc1-4123-414e-a4f2-d024d4b5c0bf",
   "metadata": {},
   "outputs": [],
   "source": []
  }
 ],
 "metadata": {
  "kernelspec": {
   "display_name": "Python 3 (ipykernel)",
   "language": "python",
   "name": "python3"
  },
  "language_info": {
   "codemirror_mode": {
    "name": "ipython",
    "version": 3
   },
   "file_extension": ".py",
   "mimetype": "text/x-python",
   "name": "python",
   "nbconvert_exporter": "python",
   "pygments_lexer": "ipython3",
   "version": "3.11.7"
  }
 },
 "nbformat": 4,
 "nbformat_minor": 5
}
