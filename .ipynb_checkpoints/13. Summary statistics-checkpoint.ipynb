{
 "cells": [
  {
   "cell_type": "code",
   "execution_count": 7,
   "id": "757b0622-ee44-448a-b382-05de5d943d75",
   "metadata": {},
   "outputs": [
    {
     "name": "stdout",
     "output_type": "stream",
     "text": [
      "                           Mean    Median    Median     n        Min  \\\n",
      "Announcer_Returns      0.500858  0.613876  0.613876  1512 -16.902533   \n",
      "Non_Announcer_Returns  0.342253  0.454559  0.454559  1512 -17.841174   \n",
      "Ann_Non                0.158605  0.145716  0.145716  1512 -13.147914   \n",
      "\n",
      "                       Perc. 10  Perc. 90        Max    t stat        SD  \\\n",
      "Announcer_Returns     -2.157210  3.123589  15.910434  7.873029  2.473711   \n",
      "Non_Announcer_Returns -2.078193  2.610771  17.768883  5.582937  2.383748   \n",
      "Ann_Non               -0.889422  1.296485   7.427442  5.499648  1.121395   \n",
      "\n",
      "                             SD     Ske w       Kurt  \n",
      "Announcer_Returns      2.473711 -0.551854   6.300926  \n",
      "Non_Announcer_Returns  2.383748 -0.407437  10.472013  \n",
      "Ann_Non                1.121395 -1.297220  19.785596  \n"
     ]
    }
   ],
   "source": [
    "import pandas as pd\n",
    "from scipy import stats\n",
    "df = pd.read_csv('/Users/balmeru/Downloads/announcer_frame1.csv')  \n",
    "cols_of_interest = ['Announcer_Returns', 'Non_Announcer_Returns', 'Ann_Non']\n",
    "df_subset = df[cols_of_interest]\n",
    "\n",
    "summary_stats = df_subset.describe(percentiles=[0.1, 0.9]).transpose() \n",
    "summary_stats['Median'] = df_subset.median()  # Median\n",
    "summary_stats['t_stat'] = [stats.ttest_1samp(df_subset[col], 0)[0] for col in df_subset.columns]  \n",
    "summary_stats['SD'] = df_subset.std()  \n",
    "summary_stats['Ske w'] = df_subset.skew() \n",
    "summary_stats['Kurt'] = df_subset.kurtosis() \n",
    "\n",
    "summary_stats['n'] = df_subset.count()\n",
    "summary_stats = summary_stats.rename(columns={\n",
    "    'mean': 'Mean',\n",
    "    '50%': 'Median',\n",
    "    'min': 'Min',\n",
    "    '10%': 'Perc. 10',\n",
    "    '90%': 'Perc. 90',\n",
    "    'max': 'Max',\n",
    "    't_stat': 't stat',\n",
    "    'std': 'SD',\n",
    "    'skew': 'Ske w',\n",
    "    'kurt': 'Kurt'\n",
    "})\n",
    "\n",
    "summary_stats = summary_stats[['Mean', 'Median', 'n', 'Min', 'Perc. 10', 'Perc. 90', 'Max', 't stat', 'SD', 'Ske w', 'Kurt']]\n",
    "print(summary_stats)\n"
   ]
  },
  {
   "cell_type": "code",
   "execution_count": null,
   "id": "8a267738-3099-4111-813e-10685d34160f",
   "metadata": {},
   "outputs": [],
   "source": []
  }
 ],
 "metadata": {
  "kernelspec": {
   "display_name": "Python 3 (ipykernel)",
   "language": "python",
   "name": "python3"
  },
  "language_info": {
   "codemirror_mode": {
    "name": "ipython",
    "version": 3
   },
   "file_extension": ".py",
   "mimetype": "text/x-python",
   "name": "python",
   "nbconvert_exporter": "python",
   "pygments_lexer": "ipython3",
   "version": "3.11.7"
  }
 },
 "nbformat": 4,
 "nbformat_minor": 5
}
