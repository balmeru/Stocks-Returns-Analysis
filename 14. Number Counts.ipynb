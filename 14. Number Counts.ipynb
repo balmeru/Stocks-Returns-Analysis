{
 "cells": [
  {
   "cell_type": "code",
   "execution_count": 27,
   "id": "5a8e37e9-e9d6-4e43-baf2-2e5987eb496a",
   "metadata": {},
   "outputs": [],
   "source": [
    "### I am substracting 2 because last column contains average return values \n"
   ]
  },
  {
   "cell_type": "code",
   "execution_count": 26,
   "id": "f24820ed-177e-4519-948a-0445c82d7eb9",
   "metadata": {},
   "outputs": [
    {
     "name": "stdout",
     "output_type": "stream",
     "text": [
      "Modified CSV for year 1984 saved to /Users/balmeru/Downloads/announcer_frame_1984.csv\n",
      "Modified CSV for year 1985 saved to /Users/balmeru/Downloads/announcer_frame_1985.csv\n",
      "Modified CSV for year 1986 saved to /Users/balmeru/Downloads/announcer_frame_1986.csv\n",
      "Modified CSV for year 1987 saved to /Users/balmeru/Downloads/announcer_frame_1987.csv\n",
      "Modified CSV for year 1988 saved to /Users/balmeru/Downloads/announcer_frame_1988.csv\n",
      "Modified CSV for year 1989 saved to /Users/balmeru/Downloads/announcer_frame_1989.csv\n",
      "Modified CSV for year 1990 saved to /Users/balmeru/Downloads/announcer_frame_1990.csv\n",
      "Modified CSV for year 1991 saved to /Users/balmeru/Downloads/announcer_frame_1991.csv\n",
      "Modified CSV for year 1992 saved to /Users/balmeru/Downloads/announcer_frame_1992.csv\n",
      "Modified CSV for year 1993 saved to /Users/balmeru/Downloads/announcer_frame_1993.csv\n",
      "Modified CSV for year 1994 saved to /Users/balmeru/Downloads/announcer_frame_1994.csv\n",
      "Modified CSV for year 1995 saved to /Users/balmeru/Downloads/announcer_frame_1995.csv\n",
      "Modified CSV for year 1996 saved to /Users/balmeru/Downloads/announcer_frame_1996.csv\n",
      "Modified CSV for year 1997 saved to /Users/balmeru/Downloads/announcer_frame_1997.csv\n",
      "Modified CSV for year 1998 saved to /Users/balmeru/Downloads/announcer_frame_1998.csv\n",
      "Modified CSV for year 1999 saved to /Users/balmeru/Downloads/announcer_frame_1999.csv\n",
      "Modified CSV for year 2000 saved to /Users/balmeru/Downloads/announcer_frame_2000.csv\n",
      "Modified CSV for year 2001 saved to /Users/balmeru/Downloads/announcer_frame_2001.csv\n",
      "Modified CSV for year 2002 saved to /Users/balmeru/Downloads/announcer_frame_2002.csv\n",
      "Modified CSV for year 2003 saved to /Users/balmeru/Downloads/announcer_frame_2003.csv\n",
      "Modified CSV for year 2004 saved to /Users/balmeru/Downloads/announcer_frame_2004.csv\n",
      "Modified CSV for year 2005 saved to /Users/balmeru/Downloads/announcer_frame_2005.csv\n",
      "Modified CSV for year 2006 saved to /Users/balmeru/Downloads/announcer_frame_2006.csv\n",
      "Modified CSV for year 2007 saved to /Users/balmeru/Downloads/announcer_frame_2007.csv\n",
      "Modified CSV for year 2008 saved to /Users/balmeru/Downloads/announcer_frame_2008.csv\n",
      "Modified CSV for year 2009 saved to /Users/balmeru/Downloads/announcer_frame_2009.csv\n",
      "Modified CSV for year 2010 saved to /Users/balmeru/Downloads/announcer_frame_2010.csv\n",
      "Modified CSV for year 2011 saved to /Users/balmeru/Downloads/announcer_frame_2011.csv\n",
      "Modified CSV for year 2012 saved to /Users/balmeru/Downloads/announcer_frame_2012.csv\n"
     ]
    }
   ],
   "source": [
    "import pandas as pd\n",
    "for year in range(1984, 2013):\n",
    "    input_csv_file_path = f'/Users/balmeru/Downloads/announcer_frame_{year}.csv'\n",
    "    output_csv_file_path = f'/Users/balmeru/Downloads/announcer_frame_{year}.csv'\n",
    "    df = pd.read_csv(input_csv_file_path, index_col=0)\n",
    "\n",
    "    df['Non-Empty Count'] = df.apply(lambda row: row.count() - 2, axis=1)\n",
    "\n",
    "    df.to_csv(output_csv_file_path)\n",
    "    print(f\"Modified CSV for year {year} saved to {output_csv_file_path}\")\n"
   ]
  },
  {
   "cell_type": "code",
   "execution_count": 28,
   "id": "cebdd70a-cf2c-49c8-8e77-ce9364cc404b",
   "metadata": {},
   "outputs": [
    {
     "name": "stdout",
     "output_type": "stream",
     "text": [
      "Modified CSV for year 1984 saved to /Users/balmeru/Downloads/non_announcer_frame_1984.csv\n",
      "Modified CSV for year 1985 saved to /Users/balmeru/Downloads/non_announcer_frame_1985.csv\n",
      "Modified CSV for year 1986 saved to /Users/balmeru/Downloads/non_announcer_frame_1986.csv\n",
      "Modified CSV for year 1987 saved to /Users/balmeru/Downloads/non_announcer_frame_1987.csv\n",
      "Modified CSV for year 1988 saved to /Users/balmeru/Downloads/non_announcer_frame_1988.csv\n",
      "Modified CSV for year 1989 saved to /Users/balmeru/Downloads/non_announcer_frame_1989.csv\n",
      "Modified CSV for year 1990 saved to /Users/balmeru/Downloads/non_announcer_frame_1990.csv\n",
      "Modified CSV for year 1991 saved to /Users/balmeru/Downloads/non_announcer_frame_1991.csv\n",
      "Modified CSV for year 1992 saved to /Users/balmeru/Downloads/non_announcer_frame_1992.csv\n",
      "Modified CSV for year 1993 saved to /Users/balmeru/Downloads/non_announcer_frame_1993.csv\n",
      "Modified CSV for year 1994 saved to /Users/balmeru/Downloads/non_announcer_frame_1994.csv\n",
      "Modified CSV for year 1995 saved to /Users/balmeru/Downloads/non_announcer_frame_1995.csv\n",
      "Modified CSV for year 1996 saved to /Users/balmeru/Downloads/non_announcer_frame_1996.csv\n",
      "Modified CSV for year 1997 saved to /Users/balmeru/Downloads/non_announcer_frame_1997.csv\n",
      "Modified CSV for year 1998 saved to /Users/balmeru/Downloads/non_announcer_frame_1998.csv\n",
      "Modified CSV for year 1999 saved to /Users/balmeru/Downloads/non_announcer_frame_1999.csv\n",
      "Modified CSV for year 2000 saved to /Users/balmeru/Downloads/non_announcer_frame_2000.csv\n",
      "Modified CSV for year 2001 saved to /Users/balmeru/Downloads/non_announcer_frame_2001.csv\n",
      "Modified CSV for year 2002 saved to /Users/balmeru/Downloads/non_announcer_frame_2002.csv\n",
      "Modified CSV for year 2003 saved to /Users/balmeru/Downloads/non_announcer_frame_2003.csv\n",
      "Modified CSV for year 2004 saved to /Users/balmeru/Downloads/non_announcer_frame_2004.csv\n",
      "Modified CSV for year 2005 saved to /Users/balmeru/Downloads/non_announcer_frame_2005.csv\n",
      "Modified CSV for year 2006 saved to /Users/balmeru/Downloads/non_announcer_frame_2006.csv\n",
      "Modified CSV for year 2007 saved to /Users/balmeru/Downloads/non_announcer_frame_2007.csv\n",
      "Modified CSV for year 2008 saved to /Users/balmeru/Downloads/non_announcer_frame_2008.csv\n",
      "Modified CSV for year 2009 saved to /Users/balmeru/Downloads/non_announcer_frame_2009.csv\n",
      "Modified CSV for year 2010 saved to /Users/balmeru/Downloads/non_announcer_frame_2010.csv\n",
      "Modified CSV for year 2011 saved to /Users/balmeru/Downloads/non_announcer_frame_2011.csv\n",
      "Modified CSV for year 2012 saved to /Users/balmeru/Downloads/non_announcer_frame_2012.csv\n"
     ]
    }
   ],
   "source": [
    "import pandas as pd\n",
    "for year in range(1984, 2013):\n",
    "    input_csv_file_path = f'/Users/balmeru/Downloads/non_announcer_frame_{year}.csv'\n",
    "    output_csv_file_path = f'/Users/balmeru/Downloads/non_announcer_frame_{year}.csv'\n",
    "    df = pd.read_csv(input_csv_file_path, index_col=0)\n",
    "\n",
    "    df['Non-Empty Count'] = df.apply(lambda row: row.count() - 2, axis=1)\n",
    "\n",
    "    df.to_csv(output_csv_file_path)\n",
    "    print(f\"Modified CSV for year {year} saved to {output_csv_file_path}\")\n"
   ]
  },
  {
   "cell_type": "code",
   "execution_count": null,
   "id": "866f37d6-12a2-4e5f-a51a-1e868ce4e418",
   "metadata": {},
   "outputs": [],
   "source": []
  }
 ],
 "metadata": {
  "kernelspec": {
   "display_name": "Python 3 (ipykernel)",
   "language": "python",
   "name": "python3"
  },
  "language_info": {
   "codemirror_mode": {
    "name": "ipython",
    "version": 3
   },
   "file_extension": ".py",
   "mimetype": "text/x-python",
   "name": "python",
   "nbconvert_exporter": "python",
   "pygments_lexer": "ipython3",
   "version": "3.11.7"
  }
 },
 "nbformat": 4,
 "nbformat_minor": 5
}
