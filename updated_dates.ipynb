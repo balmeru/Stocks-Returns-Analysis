{
 "cells": [
  {
   "cell_type": "code",
   "execution_count": 2,
   "id": "84e81ffd-6551-4ba3-b0b0-477bd2f6a261",
   "metadata": {},
   "outputs": [
    {
     "name": "stdout",
     "output_type": "stream",
     "text": [
      "Pivot table updated successfully.\n"
     ]
    }
   ],
   "source": [
    "import pandas as pd\n",
    "\n",
    "# Load the data\n",
    "pivot_df = pd.read_csv('/Users/balmeru/Downloads/expected_dates_1985.csv', index_col='quarter')\n",
    "df2 = pd.read_csv('/Users/balmeru/Downloads/median_fyrchange_dates.csv')\n",
    "df2['rdq'] = pd.to_datetime(df2['rdq'], errors='coerce')\n",
    "\n",
    "# Fill NaN values in 'txdbq' and 'dvpq' columns\n",
    "df2['txdbq'] = df2['txdbq'].fillna(0)\n",
    "df2['dvpq'] = df2['dvpq'].fillna(0)\n",
    "\n",
    "# Create 'income_good' column based on the condition\n",
    "df2.loc[:, \"income_good\"] = False\n",
    "df2.loc[~df2[\"ibq\"].isna(), \"income_good\"] = True\n",
    "\n",
    "# Create 'se1_good' column based on the condition\n",
    "df2.loc[:, \"se1_good\"] = False\n",
    "df2.loc[~df2[\"teqq\"].isna(), \"se1_good\"] = True\n",
    "\n",
    "# Create 'se2_good' column based on the condition\n",
    "df2.loc[:, \"se2_good\"] = False\n",
    "df2.loc[~df2[\"ceqq\"].isna() & ~df2[\"pstkq\"].isna(), \"se2_good\"] = True\n",
    "\n",
    "# Create 'se3_good' column based on the condition\n",
    "df2.loc[:, \"se3_good\"] = False\n",
    "df2.loc[~df2[\"atq\"].isna() & ~df2[\"ltq\"].isna(), \"se3_good\"] = True\n",
    "\n",
    "# Filter the DataFrame based on the given conditions\n",
    "filtered_df = df2[(df2['fyr_change_dummy'] == 1) &\n",
    "                  (df2['income_good'] == True) &\n",
    "                  ((df2['se1_good'] == True) |\n",
    "                   (df2['se2_good'] == True) |\n",
    "                   (df2['se3_good'] == True))]\n",
    "def update_pivot(pivot_df, filtered_df, quarters):\n",
    "    for quarter in quarters:\n",
    "        for tic in filtered_df['tic'].unique():\n",
    "            # Find the rows for the current quarter and ticker\n",
    "            condition = (filtered_df['datafqtr'] == quarter) & (filtered_df['tic'] == tic)\n",
    "            relevant_rows = filtered_df[condition]\n",
    "\n",
    "            if not relevant_rows.empty:\n",
    "                # Get the expected date (assuming there should be only one per quarter-ticker pair)\n",
    "                expected_date = relevant_rows['expected_date'].values[0]\n",
    "\n",
    "                # Check if the ticker exists in the pivot table, if not, create a new column\n",
    "                if tic not in pivot_df.columns:\n",
    "                    pivot_df[tic] = None\n",
    "                \n",
    "                # Update the pivot table with the expected date\n",
    "                pivot_df.loc[quarter, tic] = expected_date\n",
    "\n",
    "    return pivot_df\n",
    "\n",
    "# List of quarters to check\n",
    "quarters = ['1985Q1', '1985Q2', '1985Q3', '1985Q4']\n",
    "\n",
    "# Update the pivot table with the expected dates\n",
    "updated_pivot_df = update_pivot(pivot_df, filtered_df, quarters)\n",
    "\n",
    "# Save the updated pivot table to a new CSV file\n",
    "updated_pivot_df.to_csv('/Users/balmeru/Downloads/updated_1985.csv')\n",
    "\n",
    "print(\"Pivot table updated successfully.\")\n"
   ]
  },
  {
   "cell_type": "code",
   "execution_count": null,
   "id": "2e99ff5a-d039-4924-98c3-d1529e55546a",
   "metadata": {},
   "outputs": [],
   "source": []
  }
 ],
 "metadata": {
  "kernelspec": {
   "display_name": "Python 3 (ipykernel)",
   "language": "python",
   "name": "python3"
  },
  "language_info": {
   "codemirror_mode": {
    "name": "ipython",
    "version": 3
   },
   "file_extension": ".py",
   "mimetype": "text/x-python",
   "name": "python",
   "nbconvert_exporter": "python",
   "pygments_lexer": "ipython3",
   "version": "3.11.7"
  }
 },
 "nbformat": 4,
 "nbformat_minor": 5
}
