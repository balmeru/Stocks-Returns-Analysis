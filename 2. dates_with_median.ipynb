{
 "cells": [
  {
   "cell_type": "code",
   "execution_count": 1,
   "id": "b4718b52-1a3b-4ff4-bfb4-0371f1e83167",
   "metadata": {},
   "outputs": [],
   "source": [
    "import pandas as pd\n",
    "import numpy as np\n",
    "from datetime import timedelta\n",
    "\n",
    "# Load data\n",
    "csv_file_path = \"/Users/balmeru/Downloads/with_median_distances.csv\"\n",
    "df = pd.read_csv(csv_file_path)"
   ]
  },
  {
   "cell_type": "code",
   "execution_count": 2,
   "id": "eb883c84-e0b7-43cd-ba06-f1096ab1789f",
   "metadata": {},
   "outputs": [],
   "source": [
    "df['rdq'] = pd.to_datetime(df['rdq'], errors='coerce')\n",
    "df_filtered = df[(df['fyr_change_dummy'] == 1) & df['median_distance'].notna()]"
   ]
  },
  {
   "cell_type": "code",
   "execution_count": 3,
   "id": "41ec407d-80a4-4c91-a78d-65638bb6ffc1",
   "metadata": {},
   "outputs": [
    {
     "data": {
      "text/plain": [
       "8063"
      ]
     },
     "execution_count": 3,
     "metadata": {},
     "output_type": "execute_result"
    }
   ],
   "source": [
    "filtered_cases = len(df_filtered)\n",
    "filtered_cases\n"
   ]
  },
  {
   "cell_type": "code",
   "execution_count": 5,
   "id": "57066092-cb5b-485d-bf27-c3045cf5cb7d",
   "metadata": {},
   "outputs": [
    {
     "data": {
      "text/plain": [
       "8171"
      ]
     },
     "execution_count": 5,
     "metadata": {},
     "output_type": "execute_result"
    }
   ],
   "source": [
    "df_filtered = df[(df['fyr_change_dummy'] == 1)]\n",
    "filtered_cases = len(df_filtered)\n",
    "filtered_cases\n"
   ]
  },
  {
   "cell_type": "markdown",
   "id": "a808d8d5-c2aa-4890-af93-f13d972aa6af",
   "metadata": {},
   "source": [
    "#### Out of 8171 fyr changes, we have 8063 median distances"
   ]
  },
  {
   "cell_type": "code",
   "execution_count": 7,
   "id": "342e6071-7cc8-43b5-b2a5-cfd115f6cb98",
   "metadata": {},
   "outputs": [
    {
     "name": "stderr",
     "output_type": "stream",
     "text": [
      "C:\\Users\\balmeru\\AppData\\Local\\Temp\\ipykernel_11124\\2299777195.py:31: FutureWarning: Setting an item of incompatible dtype is deprecated and will raise in a future error of pandas. Value '1989-04-26 00:00:00' has dtype incompatible with float64, please explicitly cast to a compatible dtype first.\n",
      "  df.at[idx, 'expected_date'] = expected_date\n"
     ]
    }
   ],
   "source": [
    "df['expected_date'] = np.nan\n",
    "df['rdq'] = pd.to_datetime(df['rdq'], errors='coerce')\n",
    "\n",
    "# Identify the rows to process\n",
    "to_process = df[(df['fyr_change_dummy'] == 1) & (df['median_distance'].notna())]\n",
    "\n",
    "# Iterate through each row to process\n",
    "for idx, row in to_process.iterrows():\n",
    "    tic = row['tic']\n",
    "    fyearq = row['fyearq']\n",
    "    fqtr = row['fqtr']\n",
    "    median_distance = row['median_distance']\n",
    "    \n",
    "    # Determine the previous quarter\n",
    "    if fqtr > 1:\n",
    "        prev_fqtr = fqtr - 1\n",
    "        prev_fyearq = fyearq\n",
    "    else:\n",
    "        prev_fqtr = 4\n",
    "        prev_fyearq = fyearq - 1\n",
    "    \n",
    "    # Find the previous quarter row for the same ticker\n",
    "    prev_row = df[(df['tic'] == tic) & (df['fyearq'] == prev_fyearq) & (df['fqtr'] == prev_fqtr)]\n",
    "    \n",
    "    if not prev_row.empty:\n",
    "        prev_rdq = prev_row['rdq'].values[0]\n",
    "        \n",
    "        if pd.notna(prev_rdq):\n",
    "            # Calculate expected_date\n",
    "            expected_date = prev_rdq + pd.Timedelta(days=median_distance)\n",
    "            df.at[idx, 'expected_date'] = expected_date\n",
    "\n",
    "# Save the updated DataFrame\n",
    "#df.to_csv(' /Users/balmeru/Downloads/median_fyrchange_dates0.csv', index=False)\n"
   ]
  },
  {
   "cell_type": "code",
   "execution_count": 8,
   "id": "5a99975e-1f46-4c51-ba1d-0b12c06c31f3",
   "metadata": {},
   "outputs": [
    {
     "name": "stdout",
     "output_type": "stream",
     "text": [
      "Number of derived expected_date values: 5319\n"
     ]
    }
   ],
   "source": [
    "num_derived_expected_date = df['expected_date'].notna().sum()\n",
    "print(f\"Number of derived expected_date values: {num_derived_expected_date}\")\n"
   ]
  },
  {
   "cell_type": "code",
   "execution_count": 9,
   "id": "514f8cce-d7e3-4eb1-a830-317997a91dbb",
   "metadata": {},
   "outputs": [],
   "source": [
    "csv_file_path = \"/Users/balmeru/Downloads/median_fyrchange_dates0.csv\"\n",
    "df.to_csv(csv_file_path, index=False)"
   ]
  },
  {
   "cell_type": "code",
   "execution_count": null,
   "id": "235adea5-125c-4352-a94d-17c28e47b5c1",
   "metadata": {},
   "outputs": [],
   "source": []
  }
 ],
 "metadata": {
  "kernelspec": {
   "display_name": "Python 3 (ipykernel)",
   "language": "python",
   "name": "python3"
  },
  "language_info": {
   "codemirror_mode": {
    "name": "ipython",
    "version": 3
   },
   "file_extension": ".py",
   "mimetype": "text/x-python",
   "name": "python",
   "nbconvert_exporter": "python",
   "pygments_lexer": "ipython3",
   "version": "3.11.7"
  }
 },
 "nbformat": 4,
 "nbformat_minor": 5
}
