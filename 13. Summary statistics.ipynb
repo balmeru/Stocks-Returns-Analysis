{
 "cells": [
  {
   "cell_type": "code",
   "execution_count": 1,
   "id": "757b0622-ee44-448a-b382-05de5d943d75",
   "metadata": {},
   "outputs": [
    {
     "name": "stdout",
     "output_type": "stream",
     "text": [
      "                              Mean       Median       Median     n  \\\n",
      "Announcer_Returns         0.500858     0.613876     0.613876  1512   \n",
      "Non_Announcer_Returns     0.342253     0.454559     0.454559  1512   \n",
      "Ann_Non                   0.158605     0.145716     0.145716  1512   \n",
      "N_Ann                   275.340608   163.000000   163.000000  1512   \n",
      "N_Non                  3069.404101  3256.500000  3256.500000  1512   \n",
      "\n",
      "                              Min     Perc. 10     Perc. 90          Max  \\\n",
      "Announcer_Returns      -16.902533    -2.157210     3.123589    15.910434   \n",
      "Non_Announcer_Returns  -17.841174    -2.078193     2.610771    17.768883   \n",
      "Ann_Non                -13.147914    -0.889422     1.296485     7.427442   \n",
      "N_Ann                    4.000000    51.000000   650.000000  1214.000000   \n",
      "N_Non                  255.000000  1878.900000  4104.700000  4575.000000   \n",
      "\n",
      "                           t stat          SD          SD     Ske w       Kurt  \n",
      "Announcer_Returns        7.873029    2.473711    2.473711 -0.551854   6.300926  \n",
      "Non_Announcer_Returns    5.582937    2.383748    2.383748 -0.407437  10.472013  \n",
      "Ann_Non                  5.499648    1.121395    1.121395 -1.297220  19.785596  \n",
      "N_Ann                   40.582562  263.819383  263.819383  1.350782   1.199062  \n",
      "N_Non                  140.291912  850.740935  850.740935 -0.601632  -0.130399  \n"
     ]
    }
   ],
   "source": [
    "import pandas as pd\n",
    "from scipy import stats\n",
    "df = pd.read_csv('/Users/balmeru/Downloads/announcer_frame1.csv')  \n",
    "cols_of_interest = ['Announcer_Returns', 'Non_Announcer_Returns', 'Ann_Non', 'N_Ann', 'N_Non']\n",
    "df_subset = df[cols_of_interest]\n",
    "\n",
    "summary_stats = df_subset.describe(percentiles=[0.1, 0.9]).transpose() \n",
    "summary_stats['Median'] = df_subset.median()  # Median\n",
    "summary_stats['t_stat'] = [stats.ttest_1samp(df_subset[col], 0)[0] for col in df_subset.columns]  \n",
    "summary_stats['SD'] = df_subset.std()  \n",
    "summary_stats['Ske w'] = df_subset.skew() \n",
    "summary_stats['Kurt'] = df_subset.kurtosis() \n",
    "\n",
    "summary_stats['n'] = df_subset.count()\n",
    "summary_stats = summary_stats.rename(columns={\n",
    "    'mean': 'Mean',\n",
    "    '50%': 'Median',\n",
    "    'min': 'Min',\n",
    "    '10%': 'Perc. 10',\n",
    "    '90%': 'Perc. 90',\n",
    "    'max': 'Max',\n",
    "    't_stat': 't stat',\n",
    "    'std': 'SD',\n",
    "    'skew': 'Ske w',\n",
    "    'kurt': 'Kurt'\n",
    "})\n",
    "\n",
    "summary_stats = summary_stats[['Mean', 'Median', 'n', 'Min', 'Perc. 10', 'Perc. 90', 'Max', 't stat', 'SD', 'Ske w', 'Kurt']]\n",
    "print(summary_stats)\n"
   ]
  },
  {
   "cell_type": "code",
   "execution_count": null,
   "id": "8a267738-3099-4111-813e-10685d34160f",
   "metadata": {},
   "outputs": [],
   "source": []
  }
 ],
 "metadata": {
  "kernelspec": {
   "display_name": "Python 3 (ipykernel)",
   "language": "python",
   "name": "python3"
  },
  "language_info": {
   "codemirror_mode": {
    "name": "ipython",
    "version": 3
   },
   "file_extension": ".py",
   "mimetype": "text/x-python",
   "name": "python",
   "nbconvert_exporter": "python",
   "pygments_lexer": "ipython3",
   "version": "3.11.7"
  }
 },
 "nbformat": 4,
 "nbformat_minor": 5
}
