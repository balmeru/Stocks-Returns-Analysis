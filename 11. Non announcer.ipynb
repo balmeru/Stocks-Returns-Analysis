{
 "cells": [
  {
   "cell_type": "code",
   "execution_count": 1,
   "id": "1399a54a-ecb0-49c5-9870-87b3b40f6825",
   "metadata": {},
   "outputs": [
    {
     "name": "stdout",
     "output_type": "stream",
     "text": [
      "The Non-Announcer Frame has been created and saved to C:/Users/balmeru/Downloads/non_announcer_frame_1984.csv\n"
     ]
    }
   ],
   "source": [
    "import pandas as pd\n",
    "import numpy as np\n",
    "from datetime import timedelta, date\n",
    "\n",
    "returns_csv_path = \"C:/Users/balmeru/Downloads/filtered_weekly_returns_1984.csv\"  \n",
    "announcement_csv_path = \"C:/Users/balmeru/Downloads/True_False_1984.csv\"  \n",
    "returns_pivot = pd.read_csv(returns_csv_path, index_col=0)  \n",
    "announcement_pivot = pd.read_csv(announcement_csv_path, index_col=0)  \n",
    "returns_pivot.index = pd.to_datetime(returns_pivot.index, errors='raise')\n",
    "announcement_pivot.index = pd.to_datetime(announcement_pivot.index, errors='raise')\n",
    "\n",
    "combined_index = returns_pivot.index.union(announcement_pivot.index).unique().sort_values()\n",
    "returns_pivot = returns_pivot.reindex(combined_index)\n",
    "announcement_pivot = announcement_pivot.reindex(combined_index)\n",
    "assert returns_pivot.columns.equals(announcement_pivot.columns), \"Columns do not match\"\n",
    "\n",
    "non_announcer_frame = returns_pivot.copy()\n",
    "non_announcer_frame[announcement_pivot != False] = np.nan  # Set to NaN where not explicitly `False`\n",
    "non_announcer_frame['Average Return'] = non_announcer_frame.mean(axis=1, skipna=True)  # Compute the average excluding NaNs\n",
    "\n",
    "output_csv_path = \"C:/Users/balmeru/Downloads/non_announcer_frame_1984.csv\"  # Change to your desired output path\n",
    "non_announcer_frame.to_csv(output_csv_path)\n",
    "print(f\"The Non-Announcer Frame has been created and saved to {output_csv_path}\")"
   ]
  },
  {
   "cell_type": "code",
   "execution_count": 2,
   "id": "a3a16129-d691-4d99-bdc1-440ee9371b54",
   "metadata": {},
   "outputs": [
    {
     "name": "stdout",
     "output_type": "stream",
     "text": [
      "The Non-Announcer Frame has been created and saved to C:/Users/balmeru/Downloads/non_announcer_frame_1985.csv\n"
     ]
    }
   ],
   "source": [
    "import pandas as pd\n",
    "import numpy as np\n",
    "from datetime import timedelta, date\n",
    "\n",
    "returns_csv_path = \"C:/Users/balmeru/Downloads/filtered_weekly_returns_1985.csv\"  \n",
    "announcement_csv_path = \"C:/Users/balmeru/Downloads/True_False_1985.csv\"  \n",
    "returns_pivot = pd.read_csv(returns_csv_path, index_col=0)  \n",
    "announcement_pivot = pd.read_csv(announcement_csv_path, index_col=0)  \n",
    "returns_pivot.index = pd.to_datetime(returns_pivot.index, errors='raise')\n",
    "announcement_pivot.index = pd.to_datetime(announcement_pivot.index, errors='raise')\n",
    "\n",
    "combined_index = returns_pivot.index.union(announcement_pivot.index).unique().sort_values()\n",
    "returns_pivot = returns_pivot.reindex(combined_index)\n",
    "announcement_pivot = announcement_pivot.reindex(combined_index)\n",
    "assert returns_pivot.columns.equals(announcement_pivot.columns), \"Columns do not match\"\n",
    "\n",
    "non_announcer_frame = returns_pivot.copy()\n",
    "non_announcer_frame[announcement_pivot != False] = np.nan  # Set to NaN where not explicitly `False`\n",
    "non_announcer_frame['Average Return'] = non_announcer_frame.mean(axis=1, skipna=True)  # Compute the average excluding NaNs\n",
    "\n",
    "output_csv_path = \"C:/Users/balmeru/Downloads/non_announcer_frame_1985.csv\"  # Change to your desired output path\n",
    "non_announcer_frame.to_csv(output_csv_path)\n",
    "print(f\"The Non-Announcer Frame has been created and saved to {output_csv_path}\")"
   ]
  },
  {
   "cell_type": "code",
   "execution_count": 35,
   "id": "bf56b3cb-36a4-4d20-8ad3-7f7b1a10c501",
   "metadata": {},
   "outputs": [
    {
     "name": "stdout",
     "output_type": "stream",
     "text": [
      "The Non-Announcer Frame has been created and saved to C:/Users/balmeru/Downloads/non_announcer_frame_1986.csv\n"
     ]
    }
   ],
   "source": [
    "import pandas as pd\n",
    "import numpy as np\n",
    "\n",
    "# Load data from CSV files\n",
    "returns_csv_path = \"C:/Users/balmeru/Downloads/filtered_weekly_returns_1986.csv\"\n",
    "announcement_csv_path = \"C:/Users/balmeru/Downloads/True_False_1986.csv\"\n",
    "returns_pivot = pd.read_csv(returns_csv_path, index_col=0)\n",
    "announcement_pivot = pd.read_csv(announcement_csv_path, index_col=0)\n",
    "\n",
    "# Convert index to datetime\n",
    "returns_pivot.index = pd.to_datetime(returns_pivot.index, errors='raise')\n",
    "announcement_pivot.index = pd.to_datetime(announcement_pivot.index, errors='raise')\n",
    "\n",
    "# Ensure combined index contains all dates\n",
    "combined_index = returns_pivot.index.union(announcement_pivot.index).unique().sort_values()\n",
    "returns_pivot = returns_pivot.reindex(combined_index)\n",
    "announcement_pivot = announcement_pivot.reindex(combined_index)\n",
    "\n",
    "# Check if columns match\n",
    "assert returns_pivot.columns.equals(announcement_pivot.columns), \"Columns do not match\"\n",
    "\n",
    "# Create a copy of returns_pivot\n",
    "non_announcer_frame = returns_pivot.copy()\n",
    "\n",
    "# Convert non-False entries in announcement_pivot to NaN in non_announcer_frame\n",
    "non_announcer_frame[announcement_pivot != False] = np.nan\n",
    "\n",
    "# Convert all columns to numeric type to handle potential strings\n",
    "non_announcer_frame = non_announcer_frame.apply(pd.to_numeric, errors='coerce')\n",
    "\n",
    "# Compute the average return excluding NaNs\n",
    "non_announcer_frame['Average Return'] = non_announcer_frame.mean(axis=1, skipna=True)\n",
    "\n",
    "# Specify output CSV path\n",
    "output_csv_path = \"C:/Users/balmeru/Downloads/non_announcer_frame_1986.csv\"\n",
    "\n",
    "# Save non_announcer_frame to CSV\n",
    "non_announcer_frame.to_csv(output_csv_path)\n",
    "\n",
    "print(f\"The Non-Announcer Frame has been created and saved to {output_csv_path}\")\n"
   ]
  },
  {
   "cell_type": "code",
   "execution_count": 4,
   "id": "6863a61c-68dc-407a-a928-bbafee36008e",
   "metadata": {},
   "outputs": [
    {
     "name": "stdout",
     "output_type": "stream",
     "text": [
      "The Non-Announcer Frame has been created and saved to C:/Users/balmeru/Downloads/non_announcer_frame_1987.csv\n"
     ]
    }
   ],
   "source": [
    "import pandas as pd\n",
    "import numpy as np\n",
    "from datetime import timedelta, date\n",
    "\n",
    "returns_csv_path = \"C:/Users/balmeru/Downloads/filtered_weekly_returns_1987.csv\"  \n",
    "announcement_csv_path = \"C:/Users/balmeru/Downloads/True_False_1987.csv\"  \n",
    "returns_pivot = pd.read_csv(returns_csv_path, index_col=0)  \n",
    "announcement_pivot = pd.read_csv(announcement_csv_path, index_col=0)  \n",
    "returns_pivot.index = pd.to_datetime(returns_pivot.index, errors='raise')\n",
    "announcement_pivot.index = pd.to_datetime(announcement_pivot.index, errors='raise')\n",
    "\n",
    "combined_index = returns_pivot.index.union(announcement_pivot.index).unique().sort_values()\n",
    "returns_pivot = returns_pivot.reindex(combined_index)\n",
    "announcement_pivot = announcement_pivot.reindex(combined_index)\n",
    "assert returns_pivot.columns.equals(announcement_pivot.columns), \"Columns do not match\"\n",
    "\n",
    "non_announcer_frame = returns_pivot.copy()\n",
    "non_announcer_frame[announcement_pivot != False] = np.nan  # Set to NaN where not explicitly `False`\n",
    "non_announcer_frame['Average Return'] = non_announcer_frame.mean(axis=1, skipna=True)  # Compute the average excluding NaNs\n",
    "\n",
    "output_csv_path = \"C:/Users/balmeru/Downloads/non_announcer_frame_1987.csv\"  # Change to your desired output path\n",
    "non_announcer_frame.to_csv(output_csv_path)\n",
    "print(f\"The Non-Announcer Frame has been created and saved to {output_csv_path}\")"
   ]
  },
  {
   "cell_type": "code",
   "execution_count": 5,
   "id": "8dbcf2f0-46e2-4823-bc66-8ae8fb2b9a13",
   "metadata": {},
   "outputs": [
    {
     "name": "stdout",
     "output_type": "stream",
     "text": [
      "The Non-Announcer Frame has been created and saved to C:/Users/balmeru/Downloads/non_announcer_frame_1988.csv\n"
     ]
    }
   ],
   "source": [
    "import pandas as pd\n",
    "import numpy as np\n",
    "from datetime import timedelta, date\n",
    "\n",
    "returns_csv_path = \"C:/Users/balmeru/Downloads/filtered_weekly_returns_1988.csv\"  \n",
    "announcement_csv_path = \"C:/Users/balmeru/Downloads/True_False_1988.csv\"  \n",
    "returns_pivot = pd.read_csv(returns_csv_path, index_col=0)  \n",
    "announcement_pivot = pd.read_csv(announcement_csv_path, index_col=0)  \n",
    "returns_pivot.index = pd.to_datetime(returns_pivot.index, errors='raise')\n",
    "announcement_pivot.index = pd.to_datetime(announcement_pivot.index, errors='raise')\n",
    "\n",
    "combined_index = returns_pivot.index.union(announcement_pivot.index).unique().sort_values()\n",
    "returns_pivot = returns_pivot.reindex(combined_index)\n",
    "announcement_pivot = announcement_pivot.reindex(combined_index)\n",
    "assert returns_pivot.columns.equals(announcement_pivot.columns), \"Columns do not match\"\n",
    "\n",
    "non_announcer_frame = returns_pivot.copy()\n",
    "non_announcer_frame[announcement_pivot != False] = np.nan  # Set to NaN where not explicitly `False`\n",
    "non_announcer_frame['Average Return'] = non_announcer_frame.mean(axis=1, skipna=True)  # Compute the average excluding NaNs\n",
    "\n",
    "output_csv_path = \"C:/Users/balmeru/Downloads/non_announcer_frame_1988.csv\"  # Change to your desired output path\n",
    "non_announcer_frame.to_csv(output_csv_path)\n",
    "print(f\"The Non-Announcer Frame has been created and saved to {output_csv_path}\")"
   ]
  },
  {
   "cell_type": "code",
   "execution_count": 6,
   "id": "6b82c092-c1da-4bd0-ace1-840618a03666",
   "metadata": {},
   "outputs": [
    {
     "name": "stdout",
     "output_type": "stream",
     "text": [
      "The Non-Announcer Frame has been created and saved to C:/Users/balmeru/Downloads/non_announcer_frame_1989.csv\n"
     ]
    }
   ],
   "source": [
    "import pandas as pd\n",
    "import numpy as np\n",
    "from datetime import timedelta, date\n",
    "\n",
    "returns_csv_path = \"C:/Users/balmeru/Downloads/filtered_weekly_returns_1989.csv\"  \n",
    "announcement_csv_path = \"C:/Users/balmeru/Downloads/True_False_1989.csv\"  \n",
    "returns_pivot = pd.read_csv(returns_csv_path, index_col=0)  \n",
    "announcement_pivot = pd.read_csv(announcement_csv_path, index_col=0)  \n",
    "returns_pivot.index = pd.to_datetime(returns_pivot.index, errors='raise')\n",
    "announcement_pivot.index = pd.to_datetime(announcement_pivot.index, errors='raise')\n",
    "\n",
    "combined_index = returns_pivot.index.union(announcement_pivot.index).unique().sort_values()\n",
    "returns_pivot = returns_pivot.reindex(combined_index)\n",
    "announcement_pivot = announcement_pivot.reindex(combined_index)\n",
    "assert returns_pivot.columns.equals(announcement_pivot.columns), \"Columns do not match\"\n",
    "\n",
    "non_announcer_frame = returns_pivot.copy()\n",
    "non_announcer_frame[announcement_pivot != False] = np.nan  # Set to NaN where not explicitly `False`\n",
    "non_announcer_frame['Average Return'] = non_announcer_frame.mean(axis=1, skipna=True)  # Compute the average excluding NaNs\n",
    "\n",
    "output_csv_path = \"C:/Users/balmeru/Downloads/non_announcer_frame_1989.csv\"  # Change to your desired output path\n",
    "non_announcer_frame.to_csv(output_csv_path)\n",
    "print(f\"The Non-Announcer Frame has been created and saved to {output_csv_path}\")"
   ]
  },
  {
   "cell_type": "code",
   "execution_count": 7,
   "id": "f9f7e552-057d-4277-b77d-1d23de39614e",
   "metadata": {},
   "outputs": [
    {
     "name": "stdout",
     "output_type": "stream",
     "text": [
      "The Non-Announcer Frame has been created and saved to C:/Users/balmeru/Downloads/non_announcer_frame_1990.csv\n"
     ]
    }
   ],
   "source": [
    "import pandas as pd\n",
    "import numpy as np\n",
    "from datetime import timedelta, date\n",
    "\n",
    "returns_csv_path = \"C:/Users/balmeru/Downloads/filtered_weekly_returns_1990.csv\"  \n",
    "announcement_csv_path = \"C:/Users/balmeru/Downloads/True_False_1990.csv\"  \n",
    "returns_pivot = pd.read_csv(returns_csv_path, index_col=0)  \n",
    "announcement_pivot = pd.read_csv(announcement_csv_path, index_col=0)  \n",
    "returns_pivot.index = pd.to_datetime(returns_pivot.index, errors='raise')\n",
    "announcement_pivot.index = pd.to_datetime(announcement_pivot.index, errors='raise')\n",
    "\n",
    "combined_index = returns_pivot.index.union(announcement_pivot.index).unique().sort_values()\n",
    "returns_pivot = returns_pivot.reindex(combined_index)\n",
    "announcement_pivot = announcement_pivot.reindex(combined_index)\n",
    "assert returns_pivot.columns.equals(announcement_pivot.columns), \"Columns do not match\"\n",
    "\n",
    "non_announcer_frame = returns_pivot.copy()\n",
    "non_announcer_frame[announcement_pivot != False] = np.nan  # Set to NaN where not explicitly `False`\n",
    "non_announcer_frame['Average Return'] = non_announcer_frame.mean(axis=1, skipna=True)  # Compute the average excluding NaNs\n",
    "\n",
    "output_csv_path = \"C:/Users/balmeru/Downloads/non_announcer_frame_1990.csv\"  # Change to your desired output path\n",
    "non_announcer_frame.to_csv(output_csv_path)\n",
    "print(f\"The Non-Announcer Frame has been created and saved to {output_csv_path}\")"
   ]
  },
  {
   "cell_type": "code",
   "execution_count": 8,
   "id": "bc34121e-7532-4caf-afb6-4712527193c6",
   "metadata": {},
   "outputs": [
    {
     "name": "stdout",
     "output_type": "stream",
     "text": [
      "The Non-Announcer Frame has been created and saved to C:/Users/balmeru/Downloads/non_announcer_frame_1991.csv\n"
     ]
    }
   ],
   "source": [
    "import pandas as pd\n",
    "import numpy as np\n",
    "from datetime import timedelta, date\n",
    "\n",
    "returns_csv_path = \"C:/Users/balmeru/Downloads/filtered_weekly_returns_1991.csv\"  \n",
    "announcement_csv_path = \"C:/Users/balmeru/Downloads/True_False_1991.csv\"  \n",
    "returns_pivot = pd.read_csv(returns_csv_path, index_col=0)  \n",
    "announcement_pivot = pd.read_csv(announcement_csv_path, index_col=0)  \n",
    "returns_pivot.index = pd.to_datetime(returns_pivot.index, errors='raise')\n",
    "announcement_pivot.index = pd.to_datetime(announcement_pivot.index, errors='raise')\n",
    "\n",
    "combined_index = returns_pivot.index.union(announcement_pivot.index).unique().sort_values()\n",
    "returns_pivot = returns_pivot.reindex(combined_index)\n",
    "announcement_pivot = announcement_pivot.reindex(combined_index)\n",
    "assert returns_pivot.columns.equals(announcement_pivot.columns), \"Columns do not match\"\n",
    "\n",
    "non_announcer_frame = returns_pivot.copy()\n",
    "non_announcer_frame[announcement_pivot != False] = np.nan  # Set to NaN where not explicitly `False`\n",
    "non_announcer_frame['Average Return'] = non_announcer_frame.mean(axis=1, skipna=True)  # Compute the average excluding NaNs\n",
    "\n",
    "output_csv_path = \"C:/Users/balmeru/Downloads/non_announcer_frame_1991.csv\"  # Change to your desired output path\n",
    "non_announcer_frame.to_csv(output_csv_path)\n",
    "print(f\"The Non-Announcer Frame has been created and saved to {output_csv_path}\")"
   ]
  },
  {
   "cell_type": "code",
   "execution_count": 9,
   "id": "ad7dbe2d-1463-43ad-a6a2-a4377a2144b8",
   "metadata": {},
   "outputs": [
    {
     "name": "stdout",
     "output_type": "stream",
     "text": [
      "The Non-Announcer Frame has been created and saved to C:/Users/balmeru/Downloads/non_announcer_frame_1992.csv\n"
     ]
    }
   ],
   "source": [
    "import pandas as pd\n",
    "import numpy as np\n",
    "from datetime import timedelta, date\n",
    "\n",
    "returns_csv_path = \"C:/Users/balmeru/Downloads/filtered_weekly_returns_1992.csv\"  \n",
    "announcement_csv_path = \"C:/Users/balmeru/Downloads/True_False_1992.csv\"  \n",
    "returns_pivot = pd.read_csv(returns_csv_path, index_col=0)  \n",
    "announcement_pivot = pd.read_csv(announcement_csv_path, index_col=0)  \n",
    "returns_pivot.index = pd.to_datetime(returns_pivot.index, errors='raise')\n",
    "announcement_pivot.index = pd.to_datetime(announcement_pivot.index, errors='raise')\n",
    "\n",
    "combined_index = returns_pivot.index.union(announcement_pivot.index).unique().sort_values()\n",
    "returns_pivot = returns_pivot.reindex(combined_index)\n",
    "announcement_pivot = announcement_pivot.reindex(combined_index)\n",
    "assert returns_pivot.columns.equals(announcement_pivot.columns), \"Columns do not match\"\n",
    "\n",
    "non_announcer_frame = returns_pivot.copy()\n",
    "non_announcer_frame[announcement_pivot != False] = np.nan  # Set to NaN where not explicitly `False`\n",
    "non_announcer_frame['Average Return'] = non_announcer_frame.mean(axis=1, skipna=True)  # Compute the average excluding NaNs\n",
    "\n",
    "output_csv_path = \"C:/Users/balmeru/Downloads/non_announcer_frame_1992.csv\"  # Change to your desired output path\n",
    "non_announcer_frame.to_csv(output_csv_path)\n",
    "print(f\"The Non-Announcer Frame has been created and saved to {output_csv_path}\")"
   ]
  },
  {
   "cell_type": "code",
   "execution_count": 10,
   "id": "b0661836-1dab-4edc-9045-1a6a4cf69d4d",
   "metadata": {},
   "outputs": [
    {
     "name": "stdout",
     "output_type": "stream",
     "text": [
      "The Non-Announcer Frame has been created and saved to C:/Users/balmeru/Downloads/non_announcer_frame_1993.csv\n"
     ]
    }
   ],
   "source": [
    "import pandas as pd\n",
    "import numpy as np\n",
    "from datetime import timedelta, date\n",
    "\n",
    "returns_csv_path = \"C:/Users/balmeru/Downloads/filtered_weekly_returns_1993.csv\"  \n",
    "announcement_csv_path = \"C:/Users/balmeru/Downloads/True_False_1993.csv\"  \n",
    "returns_pivot = pd.read_csv(returns_csv_path, index_col=0)  \n",
    "announcement_pivot = pd.read_csv(announcement_csv_path, index_col=0)  \n",
    "returns_pivot.index = pd.to_datetime(returns_pivot.index, errors='raise')\n",
    "announcement_pivot.index = pd.to_datetime(announcement_pivot.index, errors='raise')\n",
    "\n",
    "combined_index = returns_pivot.index.union(announcement_pivot.index).unique().sort_values()\n",
    "returns_pivot = returns_pivot.reindex(combined_index)\n",
    "announcement_pivot = announcement_pivot.reindex(combined_index)\n",
    "assert returns_pivot.columns.equals(announcement_pivot.columns), \"Columns do not match\"\n",
    "\n",
    "non_announcer_frame = returns_pivot.copy()\n",
    "non_announcer_frame[announcement_pivot != False] = np.nan  # Set to NaN where not explicitly `False`\n",
    "non_announcer_frame['Average Return'] = non_announcer_frame.mean(axis=1, skipna=True)  # Compute the average excluding NaNs\n",
    "\n",
    "output_csv_path = \"C:/Users/balmeru/Downloads/non_announcer_frame_1993.csv\"  # Change to your desired output path\n",
    "non_announcer_frame.to_csv(output_csv_path)\n",
    "print(f\"The Non-Announcer Frame has been created and saved to {output_csv_path}\")"
   ]
  },
  {
   "cell_type": "code",
   "execution_count": 11,
   "id": "d92a9519-d7eb-42e5-abe5-04be4398ac76",
   "metadata": {},
   "outputs": [
    {
     "name": "stdout",
     "output_type": "stream",
     "text": [
      "The Non-Announcer Frame has been created and saved to C:/Users/balmeru/Downloads/non_announcer_frame_1994.csv\n"
     ]
    }
   ],
   "source": [
    "import pandas as pd\n",
    "import numpy as np\n",
    "from datetime import timedelta, date\n",
    "\n",
    "returns_csv_path = \"C:/Users/balmeru/Downloads/filtered_weekly_returns_1994.csv\"  \n",
    "announcement_csv_path = \"C:/Users/balmeru/Downloads/True_False_1994.csv\"  \n",
    "returns_pivot = pd.read_csv(returns_csv_path, index_col=0)  \n",
    "announcement_pivot = pd.read_csv(announcement_csv_path, index_col=0)  \n",
    "returns_pivot.index = pd.to_datetime(returns_pivot.index, errors='raise')\n",
    "announcement_pivot.index = pd.to_datetime(announcement_pivot.index, errors='raise')\n",
    "\n",
    "combined_index = returns_pivot.index.union(announcement_pivot.index).unique().sort_values()\n",
    "returns_pivot = returns_pivot.reindex(combined_index)\n",
    "announcement_pivot = announcement_pivot.reindex(combined_index)\n",
    "assert returns_pivot.columns.equals(announcement_pivot.columns), \"Columns do not match\"\n",
    "\n",
    "non_announcer_frame = returns_pivot.copy()\n",
    "non_announcer_frame[announcement_pivot != False] = np.nan  # Set to NaN where not explicitly `False`\n",
    "non_announcer_frame['Average Return'] = non_announcer_frame.mean(axis=1, skipna=True)  # Compute the average excluding NaNs\n",
    "\n",
    "output_csv_path = \"C:/Users/balmeru/Downloads/non_announcer_frame_1994.csv\"  # Change to your desired output path\n",
    "non_announcer_frame.to_csv(output_csv_path)\n",
    "print(f\"The Non-Announcer Frame has been created and saved to {output_csv_path}\")"
   ]
  },
  {
   "cell_type": "code",
   "execution_count": 12,
   "id": "017781fc-643f-4b84-a853-0cb843675796",
   "metadata": {},
   "outputs": [
    {
     "name": "stdout",
     "output_type": "stream",
     "text": [
      "The Non-Announcer Frame has been created and saved to C:/Users/balmeru/Downloads/non_announcer_frame_1995.csv\n"
     ]
    }
   ],
   "source": [
    "import pandas as pd\n",
    "import numpy as np\n",
    "from datetime import timedelta, date\n",
    "\n",
    "returns_csv_path = \"C:/Users/balmeru/Downloads/filtered_weekly_returns_1995.csv\"  \n",
    "announcement_csv_path = \"C:/Users/balmeru/Downloads/True_False_1995.csv\"  \n",
    "returns_pivot = pd.read_csv(returns_csv_path, index_col=0)  \n",
    "announcement_pivot = pd.read_csv(announcement_csv_path, index_col=0)  \n",
    "returns_pivot.index = pd.to_datetime(returns_pivot.index, errors='raise')\n",
    "announcement_pivot.index = pd.to_datetime(announcement_pivot.index, errors='raise')\n",
    "\n",
    "combined_index = returns_pivot.index.union(announcement_pivot.index).unique().sort_values()\n",
    "returns_pivot = returns_pivot.reindex(combined_index)\n",
    "announcement_pivot = announcement_pivot.reindex(combined_index)\n",
    "assert returns_pivot.columns.equals(announcement_pivot.columns), \"Columns do not match\"\n",
    "\n",
    "non_announcer_frame = returns_pivot.copy()\n",
    "non_announcer_frame[announcement_pivot != False] = np.nan  # Set to NaN where not explicitly `False`\n",
    "non_announcer_frame['Average Return'] = non_announcer_frame.mean(axis=1, skipna=True)  # Compute the average excluding NaNs\n",
    "\n",
    "output_csv_path = \"C:/Users/balmeru/Downloads/non_announcer_frame_1995.csv\"  # Change to your desired output path\n",
    "non_announcer_frame.to_csv(output_csv_path)\n",
    "print(f\"The Non-Announcer Frame has been created and saved to {output_csv_path}\")"
   ]
  },
  {
   "cell_type": "code",
   "execution_count": 13,
   "id": "d2d00002-bac0-442d-b20e-a62066db147b",
   "metadata": {},
   "outputs": [
    {
     "name": "stdout",
     "output_type": "stream",
     "text": [
      "The Non-Announcer Frame has been created and saved to C:/Users/balmeru/Downloads/non_announcer_frame_1996.csv\n"
     ]
    }
   ],
   "source": [
    "import pandas as pd\n",
    "import numpy as np\n",
    "from datetime import timedelta, date\n",
    "\n",
    "returns_csv_path = \"C:/Users/balmeru/Downloads/filtered_weekly_returns_1996.csv\"  \n",
    "announcement_csv_path = \"C:/Users/balmeru/Downloads/True_False_1996.csv\"  \n",
    "returns_pivot = pd.read_csv(returns_csv_path, index_col=0)  \n",
    "announcement_pivot = pd.read_csv(announcement_csv_path, index_col=0)  \n",
    "returns_pivot.index = pd.to_datetime(returns_pivot.index, errors='raise')\n",
    "announcement_pivot.index = pd.to_datetime(announcement_pivot.index, errors='raise')\n",
    "\n",
    "combined_index = returns_pivot.index.union(announcement_pivot.index).unique().sort_values()\n",
    "returns_pivot = returns_pivot.reindex(combined_index)\n",
    "announcement_pivot = announcement_pivot.reindex(combined_index)\n",
    "assert returns_pivot.columns.equals(announcement_pivot.columns), \"Columns do not match\"\n",
    "\n",
    "non_announcer_frame = returns_pivot.copy()\n",
    "non_announcer_frame[announcement_pivot != False] = np.nan  # Set to NaN where not explicitly `False`\n",
    "non_announcer_frame['Average Return'] = non_announcer_frame.mean(axis=1, skipna=True)  # Compute the average excluding NaNs\n",
    "\n",
    "output_csv_path = \"C:/Users/balmeru/Downloads/non_announcer_frame_1996.csv\"  # Change to your desired output path\n",
    "non_announcer_frame.to_csv(output_csv_path)\n",
    "print(f\"The Non-Announcer Frame has been created and saved to {output_csv_path}\")"
   ]
  },
  {
   "cell_type": "code",
   "execution_count": 14,
   "id": "bfbe9ab5-ad4a-4225-b37b-fe38698019e2",
   "metadata": {},
   "outputs": [
    {
     "name": "stdout",
     "output_type": "stream",
     "text": [
      "The Non-Announcer Frame has been created and saved to C:/Users/balmeru/Downloads/non_announcer_frame_1997.csv\n"
     ]
    }
   ],
   "source": [
    "import pandas as pd\n",
    "import numpy as np\n",
    "from datetime import timedelta, date\n",
    "\n",
    "returns_csv_path = \"C:/Users/balmeru/Downloads/filtered_weekly_returns_1997.csv\"  \n",
    "announcement_csv_path = \"C:/Users/balmeru/Downloads/True_False_1997.csv\"  \n",
    "returns_pivot = pd.read_csv(returns_csv_path, index_col=0)  \n",
    "announcement_pivot = pd.read_csv(announcement_csv_path, index_col=0)  \n",
    "returns_pivot.index = pd.to_datetime(returns_pivot.index, errors='raise')\n",
    "announcement_pivot.index = pd.to_datetime(announcement_pivot.index, errors='raise')\n",
    "\n",
    "combined_index = returns_pivot.index.union(announcement_pivot.index).unique().sort_values()\n",
    "returns_pivot = returns_pivot.reindex(combined_index)\n",
    "announcement_pivot = announcement_pivot.reindex(combined_index)\n",
    "assert returns_pivot.columns.equals(announcement_pivot.columns), \"Columns do not match\"\n",
    "\n",
    "non_announcer_frame = returns_pivot.copy()\n",
    "non_announcer_frame[announcement_pivot != False] = np.nan  # Set to NaN where not explicitly `False`\n",
    "non_announcer_frame['Average Return'] = non_announcer_frame.mean(axis=1, skipna=True)  # Compute the average excluding NaNs\n",
    "\n",
    "output_csv_path = \"C:/Users/balmeru/Downloads/non_announcer_frame_1997.csv\"  # Change to your desired output path\n",
    "non_announcer_frame.to_csv(output_csv_path)\n",
    "print(f\"The Non-Announcer Frame has been created and saved to {output_csv_path}\")"
   ]
  },
  {
   "cell_type": "code",
   "execution_count": 16,
   "id": "b69347d2-6d64-4452-8389-1c4945ecea58",
   "metadata": {},
   "outputs": [
    {
     "name": "stdout",
     "output_type": "stream",
     "text": [
      "The Non-Announcer Frame has been created and saved to C:/Users/balmeru/Downloads/non_announcer_frame_1998.csv\n"
     ]
    }
   ],
   "source": [
    "import pandas as pd\n",
    "import numpy as np\n",
    "from datetime import timedelta, date\n",
    "\n",
    "returns_csv_path = \"C:/Users/balmeru/Downloads/filtered_weekly_returns_1998.csv\"  \n",
    "announcement_csv_path = \"C:/Users/balmeru/Downloads/True_False_1998.csv\"  \n",
    "returns_pivot = pd.read_csv(returns_csv_path, index_col=0)  \n",
    "announcement_pivot = pd.read_csv(announcement_csv_path, index_col=0)  \n",
    "returns_pivot.index = pd.to_datetime(returns_pivot.index, errors='raise')\n",
    "announcement_pivot.index = pd.to_datetime(announcement_pivot.index, errors='raise')\n",
    "\n",
    "combined_index = returns_pivot.index.union(announcement_pivot.index).unique().sort_values()\n",
    "returns_pivot = returns_pivot.reindex(combined_index)\n",
    "announcement_pivot = announcement_pivot.reindex(combined_index)\n",
    "assert returns_pivot.columns.equals(announcement_pivot.columns), \"Columns do not match\"\n",
    "\n",
    "non_announcer_frame = returns_pivot.copy()\n",
    "non_announcer_frame[announcement_pivot != False] = np.nan  # Set to NaN where not explicitly `False`\n",
    "non_announcer_frame['Average Return'] = non_announcer_frame.mean(axis=1, skipna=True)  # Compute the average excluding NaNs\n",
    "\n",
    "output_csv_path = \"C:/Users/balmeru/Downloads/non_announcer_frame_1998.csv\"  # Change to your desired output path\n",
    "non_announcer_frame.to_csv(output_csv_path)\n",
    "print(f\"The Non-Announcer Frame has been created and saved to {output_csv_path}\")"
   ]
  },
  {
   "cell_type": "code",
   "execution_count": 17,
   "id": "2ca962d2-106b-4202-a99e-8b788087fd52",
   "metadata": {},
   "outputs": [
    {
     "name": "stdout",
     "output_type": "stream",
     "text": [
      "The Non-Announcer Frame has been created and saved to C:/Users/balmeru/Downloads/non_announcer_frame_1999.csv\n"
     ]
    }
   ],
   "source": [
    "import pandas as pd\n",
    "import numpy as np\n",
    "from datetime import timedelta, date\n",
    "\n",
    "returns_csv_path = \"C:/Users/balmeru/Downloads/filtered_weekly_returns_1999.csv\"  \n",
    "announcement_csv_path = \"C:/Users/balmeru/Downloads/True_False_1999.csv\"  \n",
    "returns_pivot = pd.read_csv(returns_csv_path, index_col=0)  \n",
    "announcement_pivot = pd.read_csv(announcement_csv_path, index_col=0)  \n",
    "returns_pivot.index = pd.to_datetime(returns_pivot.index, errors='raise')\n",
    "announcement_pivot.index = pd.to_datetime(announcement_pivot.index, errors='raise')\n",
    "\n",
    "combined_index = returns_pivot.index.union(announcement_pivot.index).unique().sort_values()\n",
    "returns_pivot = returns_pivot.reindex(combined_index)\n",
    "announcement_pivot = announcement_pivot.reindex(combined_index)\n",
    "assert returns_pivot.columns.equals(announcement_pivot.columns), \"Columns do not match\"\n",
    "\n",
    "non_announcer_frame = returns_pivot.copy()\n",
    "non_announcer_frame[announcement_pivot != False] = np.nan  # Set to NaN where not explicitly `False`\n",
    "non_announcer_frame['Average Return'] = non_announcer_frame.mean(axis=1, skipna=True)  # Compute the average excluding NaNs\n",
    "\n",
    "output_csv_path = \"C:/Users/balmeru/Downloads/non_announcer_frame_1999.csv\"  # Change to your desired output path\n",
    "non_announcer_frame.to_csv(output_csv_path)\n",
    "print(f\"The Non-Announcer Frame has been created and saved to {output_csv_path}\")"
   ]
  },
  {
   "cell_type": "code",
   "execution_count": 18,
   "id": "da0d209e-bc7f-49ed-8e5e-bbbd20a7fcb0",
   "metadata": {},
   "outputs": [
    {
     "name": "stdout",
     "output_type": "stream",
     "text": [
      "The Non-Announcer Frame has been created and saved to C:/Users/balmeru/Downloads/non_announcer_frame_2000.csv\n"
     ]
    }
   ],
   "source": [
    "import pandas as pd\n",
    "import numpy as np\n",
    "from datetime import timedelta, date\n",
    "\n",
    "returns_csv_path = \"C:/Users/balmeru/Downloads/filtered_weekly_returns_2000.csv\"  \n",
    "announcement_csv_path = \"C:/Users/balmeru/Downloads/True_False_2000.csv\"  \n",
    "returns_pivot = pd.read_csv(returns_csv_path, index_col=0)  \n",
    "announcement_pivot = pd.read_csv(announcement_csv_path, index_col=0)  \n",
    "returns_pivot.index = pd.to_datetime(returns_pivot.index, errors='raise')\n",
    "announcement_pivot.index = pd.to_datetime(announcement_pivot.index, errors='raise')\n",
    "\n",
    "combined_index = returns_pivot.index.union(announcement_pivot.index).unique().sort_values()\n",
    "returns_pivot = returns_pivot.reindex(combined_index)\n",
    "announcement_pivot = announcement_pivot.reindex(combined_index)\n",
    "assert returns_pivot.columns.equals(announcement_pivot.columns), \"Columns do not match\"\n",
    "\n",
    "non_announcer_frame = returns_pivot.copy()\n",
    "non_announcer_frame[announcement_pivot != False] = np.nan  # Set to NaN where not explicitly `False`\n",
    "non_announcer_frame['Average Return'] = non_announcer_frame.mean(axis=1, skipna=True)  # Compute the average excluding NaNs\n",
    "\n",
    "output_csv_path = \"C:/Users/balmeru/Downloads/non_announcer_frame_2000.csv\"  # Change to your desired output path\n",
    "non_announcer_frame.to_csv(output_csv_path)\n",
    "print(f\"The Non-Announcer Frame has been created and saved to {output_csv_path}\")"
   ]
  },
  {
   "cell_type": "code",
   "execution_count": 19,
   "id": "608250ee-bc33-4653-bc99-58bb3a5fda5c",
   "metadata": {},
   "outputs": [
    {
     "name": "stdout",
     "output_type": "stream",
     "text": [
      "The Non-Announcer Frame has been created and saved to C:/Users/balmeru/Downloads/non_announcer_frame_2001.csv\n"
     ]
    }
   ],
   "source": [
    "import pandas as pd\n",
    "import numpy as np\n",
    "from datetime import timedelta, date\n",
    "\n",
    "returns_csv_path = \"C:/Users/balmeru/Downloads/filtered_weekly_returns_2001.csv\"  \n",
    "announcement_csv_path = \"C:/Users/balmeru/Downloads/True_False_2001.csv\"  \n",
    "returns_pivot = pd.read_csv(returns_csv_path, index_col=0)  \n",
    "announcement_pivot = pd.read_csv(announcement_csv_path, index_col=0)  \n",
    "returns_pivot.index = pd.to_datetime(returns_pivot.index, errors='raise')\n",
    "announcement_pivot.index = pd.to_datetime(announcement_pivot.index, errors='raise')\n",
    "\n",
    "combined_index = returns_pivot.index.union(announcement_pivot.index).unique().sort_values()\n",
    "returns_pivot = returns_pivot.reindex(combined_index)\n",
    "announcement_pivot = announcement_pivot.reindex(combined_index)\n",
    "assert returns_pivot.columns.equals(announcement_pivot.columns), \"Columns do not match\"\n",
    "\n",
    "non_announcer_frame = returns_pivot.copy()\n",
    "non_announcer_frame[announcement_pivot != False] = np.nan  # Set to NaN where not explicitly `False`\n",
    "non_announcer_frame['Average Return'] = non_announcer_frame.mean(axis=1, skipna=True)  # Compute the average excluding NaNs\n",
    "\n",
    "output_csv_path = \"C:/Users/balmeru/Downloads/non_announcer_frame_2001.csv\"  # Change to your desired output path\n",
    "non_announcer_frame.to_csv(output_csv_path)\n",
    "print(f\"The Non-Announcer Frame has been created and saved to {output_csv_path}\")"
   ]
  },
  {
   "cell_type": "code",
   "execution_count": 20,
   "id": "006011b4-c8e4-4ecb-937f-9d682106a042",
   "metadata": {},
   "outputs": [
    {
     "name": "stdout",
     "output_type": "stream",
     "text": [
      "The Non-Announcer Frame has been created and saved to C:/Users/balmeru/Downloads/non_announcer_frame_2002.csv\n"
     ]
    }
   ],
   "source": [
    "import pandas as pd\n",
    "import numpy as np\n",
    "from datetime import timedelta, date\n",
    "\n",
    "returns_csv_path = \"C:/Users/balmeru/Downloads/filtered_weekly_returns_2002.csv\"  \n",
    "announcement_csv_path = \"C:/Users/balmeru/Downloads/True_False_2002.csv\"  \n",
    "returns_pivot = pd.read_csv(returns_csv_path, index_col=0)  \n",
    "announcement_pivot = pd.read_csv(announcement_csv_path, index_col=0)  \n",
    "returns_pivot.index = pd.to_datetime(returns_pivot.index, errors='raise')\n",
    "announcement_pivot.index = pd.to_datetime(announcement_pivot.index, errors='raise')\n",
    "\n",
    "combined_index = returns_pivot.index.union(announcement_pivot.index).unique().sort_values()\n",
    "returns_pivot = returns_pivot.reindex(combined_index)\n",
    "announcement_pivot = announcement_pivot.reindex(combined_index)\n",
    "assert returns_pivot.columns.equals(announcement_pivot.columns), \"Columns do not match\"\n",
    "\n",
    "non_announcer_frame = returns_pivot.copy()\n",
    "non_announcer_frame[announcement_pivot != False] = np.nan  # Set to NaN where not explicitly `False`\n",
    "non_announcer_frame['Average Return'] = non_announcer_frame.mean(axis=1, skipna=True)  # Compute the average excluding NaNs\n",
    "\n",
    "output_csv_path = \"C:/Users/balmeru/Downloads/non_announcer_frame_2002.csv\"  # Change to your desired output path\n",
    "non_announcer_frame.to_csv(output_csv_path)\n",
    "print(f\"The Non-Announcer Frame has been created and saved to {output_csv_path}\")"
   ]
  },
  {
   "cell_type": "code",
   "execution_count": 21,
   "id": "11e5d7db-7c0f-40e5-98d4-e31c7eed2035",
   "metadata": {},
   "outputs": [
    {
     "name": "stdout",
     "output_type": "stream",
     "text": [
      "The Non-Announcer Frame has been created and saved to C:/Users/balmeru/Downloads/non_announcer_frame_2003.csv\n"
     ]
    }
   ],
   "source": [
    "import pandas as pd\n",
    "import numpy as np\n",
    "from datetime import timedelta, date\n",
    "\n",
    "returns_csv_path = \"C:/Users/balmeru/Downloads/filtered_weekly_returns_2003.csv\"  \n",
    "announcement_csv_path = \"C:/Users/balmeru/Downloads/True_False_2003.csv\"  \n",
    "returns_pivot = pd.read_csv(returns_csv_path, index_col=0)  \n",
    "announcement_pivot = pd.read_csv(announcement_csv_path, index_col=0)  \n",
    "returns_pivot.index = pd.to_datetime(returns_pivot.index, errors='raise')\n",
    "announcement_pivot.index = pd.to_datetime(announcement_pivot.index, errors='raise')\n",
    "\n",
    "combined_index = returns_pivot.index.union(announcement_pivot.index).unique().sort_values()\n",
    "returns_pivot = returns_pivot.reindex(combined_index)\n",
    "announcement_pivot = announcement_pivot.reindex(combined_index)\n",
    "assert returns_pivot.columns.equals(announcement_pivot.columns), \"Columns do not match\"\n",
    "\n",
    "non_announcer_frame = returns_pivot.copy()\n",
    "non_announcer_frame[announcement_pivot != False] = np.nan  # Set to NaN where not explicitly `False`\n",
    "non_announcer_frame['Average Return'] = non_announcer_frame.mean(axis=1, skipna=True)  # Compute the average excluding NaNs\n",
    "\n",
    "output_csv_path = \"C:/Users/balmeru/Downloads/non_announcer_frame_2003.csv\"  # Change to your desired output path\n",
    "non_announcer_frame.to_csv(output_csv_path)\n",
    "print(f\"The Non-Announcer Frame has been created and saved to {output_csv_path}\")"
   ]
  },
  {
   "cell_type": "code",
   "execution_count": 22,
   "id": "223a0d5f-f6ac-45b5-9596-5e44c707e0ed",
   "metadata": {},
   "outputs": [
    {
     "name": "stdout",
     "output_type": "stream",
     "text": [
      "The Non-Announcer Frame has been created and saved to C:/Users/balmeru/Downloads/non_announcer_frame_2004.csv\n"
     ]
    }
   ],
   "source": [
    "import pandas as pd\n",
    "import numpy as np\n",
    "from datetime import timedelta, date\n",
    "\n",
    "returns_csv_path = \"C:/Users/balmeru/Downloads/filtered_weekly_returns_2004.csv\"  \n",
    "announcement_csv_path = \"C:/Users/balmeru/Downloads/True_False_2004.csv\"  \n",
    "returns_pivot = pd.read_csv(returns_csv_path, index_col=0)  \n",
    "announcement_pivot = pd.read_csv(announcement_csv_path, index_col=0)  \n",
    "returns_pivot.index = pd.to_datetime(returns_pivot.index, errors='raise')\n",
    "announcement_pivot.index = pd.to_datetime(announcement_pivot.index, errors='raise')\n",
    "\n",
    "combined_index = returns_pivot.index.union(announcement_pivot.index).unique().sort_values()\n",
    "returns_pivot = returns_pivot.reindex(combined_index)\n",
    "announcement_pivot = announcement_pivot.reindex(combined_index)\n",
    "assert returns_pivot.columns.equals(announcement_pivot.columns), \"Columns do not match\"\n",
    "\n",
    "non_announcer_frame = returns_pivot.copy()\n",
    "non_announcer_frame[announcement_pivot != False] = np.nan  # Set to NaN where not explicitly `False`\n",
    "non_announcer_frame['Average Return'] = non_announcer_frame.mean(axis=1, skipna=True)  # Compute the average excluding NaNs\n",
    "\n",
    "output_csv_path = \"C:/Users/balmeru/Downloads/non_announcer_frame_2004.csv\"  # Change to your desired output path\n",
    "non_announcer_frame.to_csv(output_csv_path)\n",
    "print(f\"The Non-Announcer Frame has been created and saved to {output_csv_path}\")"
   ]
  },
  {
   "cell_type": "code",
   "execution_count": 23,
   "id": "53e10b7a-1549-4fa5-a10f-0c8c77fd4acd",
   "metadata": {},
   "outputs": [
    {
     "name": "stdout",
     "output_type": "stream",
     "text": [
      "The Non-Announcer Frame has been created and saved to C:/Users/balmeru/Downloads/non_announcer_frame_2005.csv\n"
     ]
    }
   ],
   "source": [
    "import pandas as pd\n",
    "import numpy as np\n",
    "from datetime import timedelta, date\n",
    "\n",
    "returns_csv_path = \"C:/Users/balmeru/Downloads/filtered_weekly_returns_2005.csv\"  \n",
    "announcement_csv_path = \"C:/Users/balmeru/Downloads/True_False_2005.csv\"  \n",
    "returns_pivot = pd.read_csv(returns_csv_path, index_col=0)  \n",
    "announcement_pivot = pd.read_csv(announcement_csv_path, index_col=0)  \n",
    "returns_pivot.index = pd.to_datetime(returns_pivot.index, errors='raise')\n",
    "announcement_pivot.index = pd.to_datetime(announcement_pivot.index, errors='raise')\n",
    "\n",
    "combined_index = returns_pivot.index.union(announcement_pivot.index).unique().sort_values()\n",
    "returns_pivot = returns_pivot.reindex(combined_index)\n",
    "announcement_pivot = announcement_pivot.reindex(combined_index)\n",
    "assert returns_pivot.columns.equals(announcement_pivot.columns), \"Columns do not match\"\n",
    "\n",
    "non_announcer_frame = returns_pivot.copy()\n",
    "non_announcer_frame[announcement_pivot != False] = np.nan  # Set to NaN where not explicitly `False`\n",
    "non_announcer_frame['Average Return'] = non_announcer_frame.mean(axis=1, skipna=True)  # Compute the average excluding NaNs\n",
    "\n",
    "output_csv_path = \"C:/Users/balmeru/Downloads/non_announcer_frame_2005.csv\"  # Change to your desired output path\n",
    "non_announcer_frame.to_csv(output_csv_path)\n",
    "print(f\"The Non-Announcer Frame has been created and saved to {output_csv_path}\")"
   ]
  },
  {
   "cell_type": "code",
   "execution_count": 24,
   "id": "e6e6c65a-1843-45fd-aaac-b71cf242facb",
   "metadata": {},
   "outputs": [
    {
     "name": "stdout",
     "output_type": "stream",
     "text": [
      "The Non-Announcer Frame has been created and saved to C:/Users/balmeru/Downloads/non_announcer_frame_2006.csv\n"
     ]
    }
   ],
   "source": [
    "import pandas as pd\n",
    "import numpy as np\n",
    "from datetime import timedelta, date\n",
    "\n",
    "returns_csv_path = \"C:/Users/balmeru/Downloads/filtered_weekly_returns_2006.csv\"  \n",
    "announcement_csv_path = \"C:/Users/balmeru/Downloads/True_False_2006.csv\"  \n",
    "returns_pivot = pd.read_csv(returns_csv_path, index_col=0)  \n",
    "announcement_pivot = pd.read_csv(announcement_csv_path, index_col=0)  \n",
    "returns_pivot.index = pd.to_datetime(returns_pivot.index, errors='raise')\n",
    "announcement_pivot.index = pd.to_datetime(announcement_pivot.index, errors='raise')\n",
    "\n",
    "combined_index = returns_pivot.index.union(announcement_pivot.index).unique().sort_values()\n",
    "returns_pivot = returns_pivot.reindex(combined_index)\n",
    "announcement_pivot = announcement_pivot.reindex(combined_index)\n",
    "assert returns_pivot.columns.equals(announcement_pivot.columns), \"Columns do not match\"\n",
    "\n",
    "non_announcer_frame = returns_pivot.copy()\n",
    "non_announcer_frame[announcement_pivot != False] = np.nan  # Set to NaN where not explicitly `False`\n",
    "non_announcer_frame['Average Return'] = non_announcer_frame.mean(axis=1, skipna=True)  # Compute the average excluding NaNs\n",
    "\n",
    "output_csv_path = \"C:/Users/balmeru/Downloads/non_announcer_frame_2006.csv\"  # Change to your desired output path\n",
    "non_announcer_frame.to_csv(output_csv_path)\n",
    "print(f\"The Non-Announcer Frame has been created and saved to {output_csv_path}\")"
   ]
  },
  {
   "cell_type": "code",
   "execution_count": 25,
   "id": "0a1462e3-b65a-4dec-8ec5-f30dab27dbe0",
   "metadata": {},
   "outputs": [
    {
     "name": "stdout",
     "output_type": "stream",
     "text": [
      "The Non-Announcer Frame has been created and saved to C:/Users/balmeru/Downloads/non_announcer_frame_2007.csv\n"
     ]
    }
   ],
   "source": [
    "import pandas as pd\n",
    "import numpy as np\n",
    "from datetime import timedelta, date\n",
    "\n",
    "returns_csv_path = \"C:/Users/balmeru/Downloads/filtered_weekly_returns_2007.csv\"  \n",
    "announcement_csv_path = \"C:/Users/balmeru/Downloads/True_False_2007.csv\"  \n",
    "returns_pivot = pd.read_csv(returns_csv_path, index_col=0)  \n",
    "announcement_pivot = pd.read_csv(announcement_csv_path, index_col=0)  \n",
    "returns_pivot.index = pd.to_datetime(returns_pivot.index, errors='raise')\n",
    "announcement_pivot.index = pd.to_datetime(announcement_pivot.index, errors='raise')\n",
    "\n",
    "combined_index = returns_pivot.index.union(announcement_pivot.index).unique().sort_values()\n",
    "returns_pivot = returns_pivot.reindex(combined_index)\n",
    "announcement_pivot = announcement_pivot.reindex(combined_index)\n",
    "assert returns_pivot.columns.equals(announcement_pivot.columns), \"Columns do not match\"\n",
    "\n",
    "non_announcer_frame = returns_pivot.copy()\n",
    "non_announcer_frame[announcement_pivot != False] = np.nan  # Set to NaN where not explicitly `False`\n",
    "non_announcer_frame['Average Return'] = non_announcer_frame.mean(axis=1, skipna=True)  # Compute the average excluding NaNs\n",
    "\n",
    "output_csv_path = \"C:/Users/balmeru/Downloads/non_announcer_frame_2007.csv\"  # Change to your desired output path\n",
    "non_announcer_frame.to_csv(output_csv_path)\n",
    "print(f\"The Non-Announcer Frame has been created and saved to {output_csv_path}\")"
   ]
  },
  {
   "cell_type": "code",
   "execution_count": 26,
   "id": "762e49d9-9347-4024-b51c-258174d424f1",
   "metadata": {},
   "outputs": [
    {
     "name": "stdout",
     "output_type": "stream",
     "text": [
      "The Non-Announcer Frame has been created and saved to C:/Users/balmeru/Downloads/non_announcer_frame_2008.csv\n"
     ]
    }
   ],
   "source": [
    "import pandas as pd\n",
    "import numpy as np\n",
    "from datetime import timedelta, date\n",
    "\n",
    "returns_csv_path = \"C:/Users/balmeru/Downloads/filtered_weekly_returns_2008.csv\"  \n",
    "announcement_csv_path = \"C:/Users/balmeru/Downloads/True_False_2008.csv\"  \n",
    "returns_pivot = pd.read_csv(returns_csv_path, index_col=0)  \n",
    "announcement_pivot = pd.read_csv(announcement_csv_path, index_col=0)  \n",
    "returns_pivot.index = pd.to_datetime(returns_pivot.index, errors='raise')\n",
    "announcement_pivot.index = pd.to_datetime(announcement_pivot.index, errors='raise')\n",
    "\n",
    "combined_index = returns_pivot.index.union(announcement_pivot.index).unique().sort_values()\n",
    "returns_pivot = returns_pivot.reindex(combined_index)\n",
    "announcement_pivot = announcement_pivot.reindex(combined_index)\n",
    "assert returns_pivot.columns.equals(announcement_pivot.columns), \"Columns do not match\"\n",
    "\n",
    "non_announcer_frame = returns_pivot.copy()\n",
    "non_announcer_frame[announcement_pivot != False] = np.nan  # Set to NaN where not explicitly `False`\n",
    "non_announcer_frame['Average Return'] = non_announcer_frame.mean(axis=1, skipna=True)  # Compute the average excluding NaNs\n",
    "\n",
    "output_csv_path = \"C:/Users/balmeru/Downloads/non_announcer_frame_2008.csv\"  # Change to your desired output path\n",
    "non_announcer_frame.to_csv(output_csv_path)\n",
    "print(f\"The Non-Announcer Frame has been created and saved to {output_csv_path}\")"
   ]
  },
  {
   "cell_type": "code",
   "execution_count": 27,
   "id": "c03b797e-a076-4a18-89fc-159e220e6c08",
   "metadata": {},
   "outputs": [
    {
     "name": "stdout",
     "output_type": "stream",
     "text": [
      "The Non-Announcer Frame has been created and saved to C:/Users/balmeru/Downloads/non_announcer_frame_2009.csv\n"
     ]
    }
   ],
   "source": [
    "import pandas as pd\n",
    "import numpy as np\n",
    "from datetime import timedelta, date\n",
    "\n",
    "returns_csv_path = \"C:/Users/balmeru/Downloads/filtered_weekly_returns_2009.csv\"  \n",
    "announcement_csv_path = \"C:/Users/balmeru/Downloads/True_False_2009.csv\"  \n",
    "returns_pivot = pd.read_csv(returns_csv_path, index_col=0)  \n",
    "announcement_pivot = pd.read_csv(announcement_csv_path, index_col=0)  \n",
    "returns_pivot.index = pd.to_datetime(returns_pivot.index, errors='raise')\n",
    "announcement_pivot.index = pd.to_datetime(announcement_pivot.index, errors='raise')\n",
    "\n",
    "combined_index = returns_pivot.index.union(announcement_pivot.index).unique().sort_values()\n",
    "returns_pivot = returns_pivot.reindex(combined_index)\n",
    "announcement_pivot = announcement_pivot.reindex(combined_index)\n",
    "assert returns_pivot.columns.equals(announcement_pivot.columns), \"Columns do not match\"\n",
    "\n",
    "non_announcer_frame = returns_pivot.copy()\n",
    "non_announcer_frame[announcement_pivot != False] = np.nan  # Set to NaN where not explicitly `False`\n",
    "non_announcer_frame['Average Return'] = non_announcer_frame.mean(axis=1, skipna=True)  # Compute the average excluding NaNs\n",
    "\n",
    "output_csv_path = \"C:/Users/balmeru/Downloads/non_announcer_frame_2009.csv\"  # Change to your desired output path\n",
    "non_announcer_frame.to_csv(output_csv_path)\n",
    "print(f\"The Non-Announcer Frame has been created and saved to {output_csv_path}\")"
   ]
  },
  {
   "cell_type": "code",
   "execution_count": 28,
   "id": "bd369f81-ff68-4eac-8d9c-cd02644c4f21",
   "metadata": {},
   "outputs": [
    {
     "name": "stdout",
     "output_type": "stream",
     "text": [
      "The Non-Announcer Frame has been created and saved to C:/Users/balmeru/Downloads/non_announcer_frame_2010.csv\n"
     ]
    }
   ],
   "source": [
    "import pandas as pd\n",
    "import numpy as np\n",
    "from datetime import timedelta, date\n",
    "\n",
    "returns_csv_path = \"C:/Users/balmeru/Downloads/filtered_weekly_returns_2010.csv\"  \n",
    "announcement_csv_path = \"C:/Users/balmeru/Downloads/True_False_2010.csv\"  \n",
    "returns_pivot = pd.read_csv(returns_csv_path, index_col=0)  \n",
    "announcement_pivot = pd.read_csv(announcement_csv_path, index_col=0)  \n",
    "returns_pivot.index = pd.to_datetime(returns_pivot.index, errors='raise')\n",
    "announcement_pivot.index = pd.to_datetime(announcement_pivot.index, errors='raise')\n",
    "\n",
    "combined_index = returns_pivot.index.union(announcement_pivot.index).unique().sort_values()\n",
    "returns_pivot = returns_pivot.reindex(combined_index)\n",
    "announcement_pivot = announcement_pivot.reindex(combined_index)\n",
    "assert returns_pivot.columns.equals(announcement_pivot.columns), \"Columns do not match\"\n",
    "\n",
    "non_announcer_frame = returns_pivot.copy()\n",
    "non_announcer_frame[announcement_pivot != False] = np.nan  # Set to NaN where not explicitly `False`\n",
    "non_announcer_frame['Average Return'] = non_announcer_frame.mean(axis=1, skipna=True)  # Compute the average excluding NaNs\n",
    "\n",
    "output_csv_path = \"C:/Users/balmeru/Downloads/non_announcer_frame_2010.csv\"  # Change to your desired output path\n",
    "non_announcer_frame.to_csv(output_csv_path)\n",
    "print(f\"The Non-Announcer Frame has been created and saved to {output_csv_path}\")"
   ]
  },
  {
   "cell_type": "code",
   "execution_count": 29,
   "id": "e0012129-7d9b-42f7-a65b-3d4c27c2d9a3",
   "metadata": {},
   "outputs": [
    {
     "name": "stdout",
     "output_type": "stream",
     "text": [
      "The Non-Announcer Frame has been created and saved to C:/Users/balmeru/Downloads/non_announcer_frame_2011.csv\n"
     ]
    }
   ],
   "source": [
    "import pandas as pd\n",
    "import numpy as np\n",
    "from datetime import timedelta, date\n",
    "\n",
    "returns_csv_path = \"C:/Users/balmeru/Downloads/filtered_weekly_returns_2011.csv\"  \n",
    "announcement_csv_path = \"C:/Users/balmeru/Downloads/True_False_2011.csv\"  \n",
    "returns_pivot = pd.read_csv(returns_csv_path, index_col=0)  \n",
    "announcement_pivot = pd.read_csv(announcement_csv_path, index_col=0)  \n",
    "returns_pivot.index = pd.to_datetime(returns_pivot.index, errors='raise')\n",
    "announcement_pivot.index = pd.to_datetime(announcement_pivot.index, errors='raise')\n",
    "\n",
    "combined_index = returns_pivot.index.union(announcement_pivot.index).unique().sort_values()\n",
    "returns_pivot = returns_pivot.reindex(combined_index)\n",
    "announcement_pivot = announcement_pivot.reindex(combined_index)\n",
    "assert returns_pivot.columns.equals(announcement_pivot.columns), \"Columns do not match\"\n",
    "\n",
    "non_announcer_frame = returns_pivot.copy()\n",
    "non_announcer_frame[announcement_pivot != False] = np.nan  # Set to NaN where not explicitly `False`\n",
    "non_announcer_frame['Average Return'] = non_announcer_frame.mean(axis=1, skipna=True)  # Compute the average excluding NaNs\n",
    "\n",
    "output_csv_path = \"C:/Users/balmeru/Downloads/non_announcer_frame_2011.csv\"  # Change to your desired output path\n",
    "non_announcer_frame.to_csv(output_csv_path)\n",
    "print(f\"The Non-Announcer Frame has been created and saved to {output_csv_path}\")"
   ]
  },
  {
   "cell_type": "code",
   "execution_count": 30,
   "id": "c015341d-564e-42f4-b7c2-cd9067f7f656",
   "metadata": {},
   "outputs": [
    {
     "name": "stdout",
     "output_type": "stream",
     "text": [
      "The Non-Announcer Frame has been created and saved to C:/Users/balmeru/Downloads/non_announcer_frame_2012.csv\n"
     ]
    }
   ],
   "source": [
    "import pandas as pd\n",
    "import numpy as np\n",
    "from datetime import timedelta, date\n",
    "\n",
    "returns_csv_path = \"C:/Users/balmeru/Downloads/filtered_weekly_returns_2012.csv\"  \n",
    "announcement_csv_path = \"C:/Users/balmeru/Downloads/True_False_2012.csv\"  \n",
    "returns_pivot = pd.read_csv(returns_csv_path, index_col=0)  \n",
    "announcement_pivot = pd.read_csv(announcement_csv_path, index_col=0)  \n",
    "returns_pivot.index = pd.to_datetime(returns_pivot.index, errors='raise')\n",
    "announcement_pivot.index = pd.to_datetime(announcement_pivot.index, errors='raise')\n",
    "\n",
    "combined_index = returns_pivot.index.union(announcement_pivot.index).unique().sort_values()\n",
    "returns_pivot = returns_pivot.reindex(combined_index)\n",
    "announcement_pivot = announcement_pivot.reindex(combined_index)\n",
    "assert returns_pivot.columns.equals(announcement_pivot.columns), \"Columns do not match\"\n",
    "\n",
    "non_announcer_frame = returns_pivot.copy()\n",
    "non_announcer_frame[announcement_pivot != False] = np.nan  # Set to NaN where not explicitly `False`\n",
    "non_announcer_frame['Average Return'] = non_announcer_frame.mean(axis=1, skipna=True)  # Compute the average excluding NaNs\n",
    "\n",
    "output_csv_path = \"C:/Users/balmeru/Downloads/non_announcer_frame_2012.csv\"  # Change to your desired output path\n",
    "non_announcer_frame.to_csv(output_csv_path)\n",
    "print(f\"The Non-Announcer Frame has been created and saved to {output_csv_path}\")"
   ]
  },
  {
   "cell_type": "code",
   "execution_count": null,
   "id": "caf83fd5-6eec-4ea8-8a27-950e37987bac",
   "metadata": {},
   "outputs": [],
   "source": []
  }
 ],
 "metadata": {
  "kernelspec": {
   "display_name": "Python 3 (ipykernel)",
   "language": "python",
   "name": "python3"
  },
  "language_info": {
   "codemirror_mode": {
    "name": "ipython",
    "version": 3
   },
   "file_extension": ".py",
   "mimetype": "text/x-python",
   "name": "python",
   "nbconvert_exporter": "python",
   "pygments_lexer": "ipython3",
   "version": "3.11.7"
  }
 },
 "nbformat": 4,
 "nbformat_minor": 5
}
