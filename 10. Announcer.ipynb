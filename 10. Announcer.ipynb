{
 "cells": [
  {
   "cell_type": "code",
   "execution_count": 1,
   "id": "5c06ba49-974b-4889-acb7-289c51309bf2",
   "metadata": {},
   "outputs": [
    {
     "name": "stdout",
     "output_type": "stream",
     "text": [
      "The Announcer Frame has been created and saved to /Users/balmeru/Downloads/announcer_frame_2012.csv\n"
     ]
    }
   ],
   "source": [
    "import pandas as pd\n",
    "import numpy as np\n",
    "\n",
    "returns_csv_path = \"/Users/balmeru/Downloads/filtered_weekly_returns_2012.csv\"  \n",
    "announcement_csv_path = \"/Users/balmeru/Downloads/True_False_2012.csv\" \n",
    "returns_pivot = pd.read_csv(returns_csv_path, index_col=0)  \n",
    "announcement_pivot = pd.read_csv(announcement_csv_path, index_col=0)  \n",
    "returns_pivot.index = pd.to_datetime(returns_pivot.index,  errors='raise')\n",
    "announcement_pivot.index = pd.to_datetime(announcement_pivot.index,  errors='raise')\n",
    "\n",
    "combined_index = returns_pivot.index.union(announcement_pivot.index).unique().sort_values()\n",
    "returns_pivot = returns_pivot.reindex(combined_index)\n",
    "announcement_pivot = announcement_pivot.reindex(combined_index)\n",
    "\n",
    "assert returns_pivot.columns.equals(announcement_pivot.columns), \"Columns do not match\"\n",
    "\n",
    "announcer_frame = returns_pivot.copy()\n",
    "announcer_frame[announcement_pivot != True] = np.nan  \n",
    "announcer_frame['Average Return'] = announcer_frame.mean(axis=1, skipna=True)  \n",
    "output_csv_path = \"/Users/balmeru/Downloads/announcer_frame_2012.csv\" \n",
    "announcer_frame.to_csv(output_csv_path)\n",
    "\n",
    "print(f\"The Announcer Frame has been created and saved to {output_csv_path}\")"
   ]
  },
  {
   "cell_type": "code",
   "execution_count": 2,
   "id": "402b28f8-f270-400e-b9ac-60b7e5d85551",
   "metadata": {},
   "outputs": [
    {
     "name": "stdout",
     "output_type": "stream",
     "text": [
      "The Announcer Frame has been created and saved to /Users/balmeru/Downloads/announcer_frame_2011.csv\n"
     ]
    }
   ],
   "source": [
    "import pandas as pd\n",
    "import numpy as np\n",
    "\n",
    "returns_csv_path = \"/Users/balmeru/Downloads/filtered_weekly_returns_2011.csv\"  \n",
    "announcement_csv_path = \"/Users/balmeru/Downloads/True_False_2011.csv\" \n",
    "returns_pivot = pd.read_csv(returns_csv_path, index_col=0)  \n",
    "announcement_pivot = pd.read_csv(announcement_csv_path, index_col=0)  \n",
    "returns_pivot.index = pd.to_datetime(returns_pivot.index,  errors='raise')\n",
    "announcement_pivot.index = pd.to_datetime(announcement_pivot.index,  errors='raise')\n",
    "\n",
    "combined_index = returns_pivot.index.union(announcement_pivot.index).unique().sort_values()\n",
    "returns_pivot = returns_pivot.reindex(combined_index)\n",
    "announcement_pivot = announcement_pivot.reindex(combined_index)\n",
    "\n",
    "assert returns_pivot.columns.equals(announcement_pivot.columns), \"Columns do not match\"\n",
    "\n",
    "announcer_frame = returns_pivot.copy()\n",
    "announcer_frame[announcement_pivot != True] = np.nan  \n",
    "announcer_frame['Average Return'] = announcer_frame.mean(axis=1, skipna=True)  \n",
    "output_csv_path = \"/Users/balmeru/Downloads/announcer_frame_2011.csv\" \n",
    "announcer_frame.to_csv(output_csv_path)\n",
    "\n",
    "print(f\"The Announcer Frame has been created and saved to {output_csv_path}\")"
   ]
  },
  {
   "cell_type": "code",
   "execution_count": 3,
   "id": "e0edc593-4256-4f64-afeb-ab0c8720a2c6",
   "metadata": {},
   "outputs": [
    {
     "name": "stdout",
     "output_type": "stream",
     "text": [
      "The Announcer Frame has been created and saved to /Users/balmeru/Downloads/announcer_frame_2010.csv\n"
     ]
    }
   ],
   "source": [
    "import pandas as pd\n",
    "import numpy as np\n",
    "\n",
    "returns_csv_path = \"/Users/balmeru/Downloads/filtered_weekly_returns_2010.csv\"  \n",
    "announcement_csv_path = \"/Users/balmeru/Downloads/True_False_2010.csv\" \n",
    "returns_pivot = pd.read_csv(returns_csv_path, index_col=0)  \n",
    "announcement_pivot = pd.read_csv(announcement_csv_path, index_col=0)  \n",
    "returns_pivot.index = pd.to_datetime(returns_pivot.index,  errors='raise')\n",
    "announcement_pivot.index = pd.to_datetime(announcement_pivot.index,  errors='raise')\n",
    "\n",
    "combined_index = returns_pivot.index.union(announcement_pivot.index).unique().sort_values()\n",
    "returns_pivot = returns_pivot.reindex(combined_index)\n",
    "announcement_pivot = announcement_pivot.reindex(combined_index)\n",
    "\n",
    "assert returns_pivot.columns.equals(announcement_pivot.columns), \"Columns do not match\"\n",
    "\n",
    "announcer_frame = returns_pivot.copy()\n",
    "announcer_frame[announcement_pivot != True] = np.nan  \n",
    "announcer_frame['Average Return'] = announcer_frame.mean(axis=1, skipna=True)  \n",
    "output_csv_path = \"/Users/balmeru/Downloads/announcer_frame_2010.csv\" \n",
    "announcer_frame.to_csv(output_csv_path)\n",
    "\n",
    "print(f\"The Announcer Frame has been created and saved to {output_csv_path}\")"
   ]
  },
  {
   "cell_type": "code",
   "execution_count": 4,
   "id": "626091c7-40bc-4097-ab1d-c7baed1ae720",
   "metadata": {},
   "outputs": [
    {
     "name": "stdout",
     "output_type": "stream",
     "text": [
      "The Announcer Frame has been created and saved to /Users/balmeru/Downloads/announcer_frame_1984.csv\n"
     ]
    }
   ],
   "source": [
    "import pandas as pd\n",
    "import numpy as np\n",
    "\n",
    "returns_csv_path = \"/Users/balmeru/Downloads/filtered_weekly_returns_1984.csv\"  \n",
    "announcement_csv_path = \"/Users/balmeru/Downloads/True_False_1984.csv\" \n",
    "returns_pivot = pd.read_csv(returns_csv_path, index_col=0)  \n",
    "announcement_pivot = pd.read_csv(announcement_csv_path, index_col=0)  \n",
    "returns_pivot.index = pd.to_datetime(returns_pivot.index,  errors='raise')\n",
    "announcement_pivot.index = pd.to_datetime(announcement_pivot.index,  errors='raise')\n",
    "\n",
    "combined_index = returns_pivot.index.union(announcement_pivot.index).unique().sort_values()\n",
    "returns_pivot = returns_pivot.reindex(combined_index)\n",
    "announcement_pivot = announcement_pivot.reindex(combined_index)\n",
    "\n",
    "assert returns_pivot.columns.equals(announcement_pivot.columns), \"Columns do not match\"\n",
    "\n",
    "announcer_frame = returns_pivot.copy()\n",
    "announcer_frame[announcement_pivot != True] = np.nan  \n",
    "announcer_frame['Average Return'] = announcer_frame.mean(axis=1, skipna=True)  \n",
    "output_csv_path = \"/Users/balmeru/Downloads/announcer_frame_1984.csv\" \n",
    "announcer_frame.to_csv(output_csv_path)\n",
    "\n",
    "print(f\"The Announcer Frame has been created and saved to {output_csv_path}\")"
   ]
  },
  {
   "cell_type": "code",
   "execution_count": 5,
   "id": "29f9eac5-4846-4f1d-92f0-b3c2816f2324",
   "metadata": {},
   "outputs": [
    {
     "name": "stdout",
     "output_type": "stream",
     "text": [
      "The Announcer Frame has been created and saved to /Users/balmeru/Downloads/announcer_frame_1985.csv\n"
     ]
    }
   ],
   "source": [
    "import pandas as pd\n",
    "import numpy as np\n",
    "\n",
    "returns_csv_path = \"/Users/balmeru/Downloads/filtered_weekly_returns_1985.csv\"  \n",
    "announcement_csv_path = \"/Users/balmeru/Downloads/True_False_1985.csv\" \n",
    "returns_pivot = pd.read_csv(returns_csv_path, index_col=0)  \n",
    "announcement_pivot = pd.read_csv(announcement_csv_path, index_col=0)  \n",
    "returns_pivot.index = pd.to_datetime(returns_pivot.index,  errors='raise')\n",
    "announcement_pivot.index = pd.to_datetime(announcement_pivot.index,  errors='raise')\n",
    "\n",
    "combined_index = returns_pivot.index.union(announcement_pivot.index).unique().sort_values()\n",
    "returns_pivot = returns_pivot.reindex(combined_index)\n",
    "announcement_pivot = announcement_pivot.reindex(combined_index)\n",
    "\n",
    "assert returns_pivot.columns.equals(announcement_pivot.columns), \"Columns do not match\"\n",
    "\n",
    "announcer_frame = returns_pivot.copy()\n",
    "announcer_frame[announcement_pivot != True] = np.nan  \n",
    "announcer_frame['Average Return'] = announcer_frame.mean(axis=1, skipna=True)  \n",
    "output_csv_path = \"/Users/balmeru/Downloads/announcer_frame_1985.csv\" \n",
    "announcer_frame.to_csv(output_csv_path)\n",
    "\n",
    "print(f\"The Announcer Frame has been created and saved to {output_csv_path}\")"
   ]
  },
  {
   "cell_type": "code",
   "execution_count": 8,
   "id": "a0d9795f-9f6c-46ba-b88c-f5729153f739",
   "metadata": {},
   "outputs": [
    {
     "name": "stdout",
     "output_type": "stream",
     "text": [
      "The Announcer Frame has been created and saved to /Users/balmeru/Downloads/announcer_frame_1986.csv\n"
     ]
    }
   ],
   "source": [
    "import pandas as pd\n",
    "import numpy as np\n",
    "\n",
    "returns_csv_path = \"/Users/balmeru/Downloads/filtered_weekly_returns_1986.csv\"\n",
    "announcement_csv_path = \"/Users/balmeru/Downloads/True_False_1986.csv\"\n",
    "\n",
    "returns_pivot = pd.read_csv(returns_csv_path, index_col=0)\n",
    "announcement_pivot = pd.read_csv(announcement_csv_path, index_col=0)\n",
    "\n",
    "returns_pivot.index = pd.to_datetime(returns_pivot.index, errors='raise')\n",
    "announcement_pivot.index = pd.to_datetime(announcement_pivot.index, errors='raise')\n",
    "\n",
    "combined_index = returns_pivot.index.union(announcement_pivot.index).unique().sort_values()\n",
    "returns_pivot = returns_pivot.reindex(combined_index)\n",
    "announcement_pivot = announcement_pivot.reindex(combined_index)\n",
    "\n",
    "assert returns_pivot.columns.equals(announcement_pivot.columns), \"Columns do not match\"\n",
    "\n",
    "# Create a copy of returns_pivot\n",
    "announcer_frame = returns_pivot.copy()\n",
    "\n",
    "# Replace non-True values in announcer_frame with NaN\n",
    "# Ensure announcement_pivot is boolean (True/False) and not strings (\"True\"/\"False\")\n",
    "announcement_pivot_boolean = announcement_pivot.astype(bool)\n",
    "\n",
    "# Use boolean indexing to replace non-True values with NaN\n",
    "announcer_frame[~announcement_pivot_boolean] = np.nan\n",
    "\n",
    "# Convert columns to numeric if needed (for mean calculation)\n",
    "announcer_frame = announcer_frame.apply(pd.to_numeric, errors='coerce')\n",
    "\n",
    "# Calculate mean along rows (axis=1)\n",
    "announcer_frame['Average Return'] = announcer_frame.mean(axis=1, skipna=True)\n",
    "\n",
    "# Save to CSV\n",
    "output_csv_path = \"/Users/balmeru/Downloads/announcer_frame_1986.csv\"\n",
    "announcer_frame.to_csv(output_csv_path)\n",
    "\n",
    "print(f\"The Announcer Frame has been created and saved to {output_csv_path}\")\n"
   ]
  },
  {
   "cell_type": "code",
   "execution_count": 9,
   "id": "503bd4ba-6387-4b73-b9d0-db3d4e8e41ac",
   "metadata": {},
   "outputs": [
    {
     "name": "stdout",
     "output_type": "stream",
     "text": [
      "The Announcer Frame has been created and saved to /Users/balmeru/Downloads/announcer_frame_1987.csv\n"
     ]
    }
   ],
   "source": [
    "import pandas as pd\n",
    "import numpy as np\n",
    "\n",
    "returns_csv_path = \"/Users/balmeru/Downloads/filtered_weekly_returns_1987.csv\"  \n",
    "announcement_csv_path = \"/Users/balmeru/Downloads/True_False_1987.csv\" \n",
    "returns_pivot = pd.read_csv(returns_csv_path, index_col=0)  \n",
    "announcement_pivot = pd.read_csv(announcement_csv_path, index_col=0)  \n",
    "returns_pivot.index = pd.to_datetime(returns_pivot.index,  errors='raise')\n",
    "announcement_pivot.index = pd.to_datetime(announcement_pivot.index,  errors='raise')\n",
    "\n",
    "combined_index = returns_pivot.index.union(announcement_pivot.index).unique().sort_values()\n",
    "returns_pivot = returns_pivot.reindex(combined_index)\n",
    "announcement_pivot = announcement_pivot.reindex(combined_index)\n",
    "\n",
    "assert returns_pivot.columns.equals(announcement_pivot.columns), \"Columns do not match\"\n",
    "\n",
    "announcer_frame = returns_pivot.copy()\n",
    "announcer_frame[announcement_pivot != True] = np.nan  \n",
    "announcer_frame['Average Return'] = announcer_frame.mean(axis=1, skipna=True)  \n",
    "output_csv_path = \"/Users/balmeru/Downloads/announcer_frame_1987.csv\" \n",
    "announcer_frame.to_csv(output_csv_path)\n",
    "\n",
    "print(f\"The Announcer Frame has been created and saved to {output_csv_path}\")"
   ]
  },
  {
   "cell_type": "code",
   "execution_count": 10,
   "id": "c9bda56c-48de-47dd-9fa3-6fdcfe3e9e92",
   "metadata": {},
   "outputs": [
    {
     "name": "stdout",
     "output_type": "stream",
     "text": [
      "The Announcer Frame has been created and saved to /Users/balmeru/Downloads/announcer_frame_1988.csv\n"
     ]
    }
   ],
   "source": [
    "import pandas as pd\n",
    "import numpy as np\n",
    "\n",
    "returns_csv_path = \"/Users/balmeru/Downloads/filtered_weekly_returns_1988.csv\"  \n",
    "announcement_csv_path = \"/Users/balmeru/Downloads/True_False_1988.csv\" \n",
    "returns_pivot = pd.read_csv(returns_csv_path, index_col=0)  \n",
    "announcement_pivot = pd.read_csv(announcement_csv_path, index_col=0)  \n",
    "returns_pivot.index = pd.to_datetime(returns_pivot.index,  errors='raise')\n",
    "announcement_pivot.index = pd.to_datetime(announcement_pivot.index,  errors='raise')\n",
    "\n",
    "combined_index = returns_pivot.index.union(announcement_pivot.index).unique().sort_values()\n",
    "returns_pivot = returns_pivot.reindex(combined_index)\n",
    "announcement_pivot = announcement_pivot.reindex(combined_index)\n",
    "\n",
    "assert returns_pivot.columns.equals(announcement_pivot.columns), \"Columns do not match\"\n",
    "\n",
    "announcer_frame = returns_pivot.copy()\n",
    "announcer_frame[announcement_pivot != True] = np.nan  \n",
    "announcer_frame['Average Return'] = announcer_frame.mean(axis=1, skipna=True)  \n",
    "output_csv_path = \"/Users/balmeru/Downloads/announcer_frame_1988.csv\" \n",
    "announcer_frame.to_csv(output_csv_path)\n",
    "\n",
    "print(f\"The Announcer Frame has been created and saved to {output_csv_path}\")"
   ]
  },
  {
   "cell_type": "code",
   "execution_count": 13,
   "id": "39cff40a-92b5-4ae4-ab0d-34983d482752",
   "metadata": {},
   "outputs": [
    {
     "name": "stdout",
     "output_type": "stream",
     "text": [
      "The Announcer Frame has been created and saved to /Users/balmeru/Downloads/announcer_frame_1989.csv\n"
     ]
    }
   ],
   "source": [
    "import pandas as pd\n",
    "import numpy as np\n",
    "\n",
    "returns_csv_path = \"/Users/balmeru/Downloads/filtered_weekly_returns_1989.csv\"  \n",
    "announcement_csv_path = \"/Users/balmeru/Downloads/True_False_1989.csv\" \n",
    "returns_pivot = pd.read_csv(returns_csv_path, index_col=0)  \n",
    "announcement_pivot = pd.read_csv(announcement_csv_path, index_col=0)  \n",
    "returns_pivot.index = pd.to_datetime(returns_pivot.index,  errors='raise')\n",
    "announcement_pivot.index = pd.to_datetime(announcement_pivot.index,  errors='raise')\n",
    "\n",
    "combined_index = returns_pivot.index.union(announcement_pivot.index).unique().sort_values()\n",
    "returns_pivot = returns_pivot.reindex(combined_index)\n",
    "announcement_pivot = announcement_pivot.reindex(combined_index)\n",
    "\n",
    "assert returns_pivot.columns.equals(announcement_pivot.columns), \"Columns do not match\"\n",
    "\n",
    "announcer_frame = returns_pivot.copy()\n",
    "announcer_frame[announcement_pivot != True] = np.nan  \n",
    "announcer_frame['Average Return'] = announcer_frame.mean(axis=1, skipna=True)  \n",
    "output_csv_path = \"/Users/balmeru/Downloads/announcer_frame_1989.csv\" \n",
    "announcer_frame.to_csv(output_csv_path)\n",
    "\n",
    "print(f\"The Announcer Frame has been created and saved to {output_csv_path}\")"
   ]
  },
  {
   "cell_type": "code",
   "execution_count": 14,
   "id": "d2e348f9-9122-49e8-ad59-b6fa1dbfa985",
   "metadata": {},
   "outputs": [
    {
     "name": "stdout",
     "output_type": "stream",
     "text": [
      "The Announcer Frame has been created and saved to /Users/balmeru/Downloads/announcer_frame_1990.csv\n"
     ]
    }
   ],
   "source": [
    "import pandas as pd\n",
    "import numpy as np\n",
    "\n",
    "returns_csv_path = \"/Users/balmeru/Downloads/filtered_weekly_returns_1990.csv\"  \n",
    "announcement_csv_path = \"/Users/balmeru/Downloads/True_False_1990.csv\" \n",
    "returns_pivot = pd.read_csv(returns_csv_path, index_col=0)  \n",
    "announcement_pivot = pd.read_csv(announcement_csv_path, index_col=0)  \n",
    "returns_pivot.index = pd.to_datetime(returns_pivot.index,  errors='raise')\n",
    "announcement_pivot.index = pd.to_datetime(announcement_pivot.index,  errors='raise')\n",
    "\n",
    "combined_index = returns_pivot.index.union(announcement_pivot.index).unique().sort_values()\n",
    "returns_pivot = returns_pivot.reindex(combined_index)\n",
    "announcement_pivot = announcement_pivot.reindex(combined_index)\n",
    "\n",
    "assert returns_pivot.columns.equals(announcement_pivot.columns), \"Columns do not match\"\n",
    "\n",
    "announcer_frame = returns_pivot.copy()\n",
    "announcer_frame[announcement_pivot != True] = np.nan  \n",
    "announcer_frame['Average Return'] = announcer_frame.mean(axis=1, skipna=True)  \n",
    "output_csv_path = \"/Users/balmeru/Downloads/announcer_frame_1990.csv\" \n",
    "announcer_frame.to_csv(output_csv_path)\n",
    "\n",
    "print(f\"The Announcer Frame has been created and saved to {output_csv_path}\")"
   ]
  },
  {
   "cell_type": "code",
   "execution_count": 15,
   "id": "49a142e0-292d-48a1-bd89-e8a43d794e6d",
   "metadata": {},
   "outputs": [
    {
     "name": "stdout",
     "output_type": "stream",
     "text": [
      "The Announcer Frame has been created and saved to /Users/balmeru/Downloads/announcer_frame_1991.csv\n"
     ]
    }
   ],
   "source": [
    "import pandas as pd\n",
    "import numpy as np\n",
    "\n",
    "returns_csv_path = \"/Users/balmeru/Downloads/filtered_weekly_returns_1991.csv\"  \n",
    "announcement_csv_path = \"/Users/balmeru/Downloads/True_False_1991.csv\" \n",
    "returns_pivot = pd.read_csv(returns_csv_path, index_col=0)  \n",
    "announcement_pivot = pd.read_csv(announcement_csv_path, index_col=0)  \n",
    "returns_pivot.index = pd.to_datetime(returns_pivot.index,  errors='raise')\n",
    "announcement_pivot.index = pd.to_datetime(announcement_pivot.index,  errors='raise')\n",
    "\n",
    "combined_index = returns_pivot.index.union(announcement_pivot.index).unique().sort_values()\n",
    "returns_pivot = returns_pivot.reindex(combined_index)\n",
    "announcement_pivot = announcement_pivot.reindex(combined_index)\n",
    "\n",
    "assert returns_pivot.columns.equals(announcement_pivot.columns), \"Columns do not match\"\n",
    "\n",
    "announcer_frame = returns_pivot.copy()\n",
    "announcer_frame[announcement_pivot != True] = np.nan  \n",
    "announcer_frame['Average Return'] = announcer_frame.mean(axis=1, skipna=True)  \n",
    "output_csv_path = \"/Users/balmeru/Downloads/announcer_frame_1991.csv\" \n",
    "announcer_frame.to_csv(output_csv_path)\n",
    "\n",
    "print(f\"The Announcer Frame has been created and saved to {output_csv_path}\")"
   ]
  },
  {
   "cell_type": "code",
   "execution_count": 16,
   "id": "e885aff2-0470-45d4-8508-60d7f4d82214",
   "metadata": {},
   "outputs": [
    {
     "name": "stdout",
     "output_type": "stream",
     "text": [
      "The Announcer Frame has been created and saved to /Users/balmeru/Downloads/announcer_frame_1992.csv\n"
     ]
    }
   ],
   "source": [
    "import pandas as pd\n",
    "import numpy as np\n",
    "\n",
    "returns_csv_path = \"/Users/balmeru/Downloads/filtered_weekly_returns_1992.csv\"  \n",
    "announcement_csv_path = \"/Users/balmeru/Downloads/True_False_1992.csv\" \n",
    "returns_pivot = pd.read_csv(returns_csv_path, index_col=0)  \n",
    "announcement_pivot = pd.read_csv(announcement_csv_path, index_col=0)  \n",
    "returns_pivot.index = pd.to_datetime(returns_pivot.index,  errors='raise')\n",
    "announcement_pivot.index = pd.to_datetime(announcement_pivot.index,  errors='raise')\n",
    "\n",
    "combined_index = returns_pivot.index.union(announcement_pivot.index).unique().sort_values()\n",
    "returns_pivot = returns_pivot.reindex(combined_index)\n",
    "announcement_pivot = announcement_pivot.reindex(combined_index)\n",
    "\n",
    "assert returns_pivot.columns.equals(announcement_pivot.columns), \"Columns do not match\"\n",
    "\n",
    "announcer_frame = returns_pivot.copy()\n",
    "announcer_frame[announcement_pivot != True] = np.nan  \n",
    "announcer_frame['Average Return'] = announcer_frame.mean(axis=1, skipna=True)  \n",
    "output_csv_path = \"/Users/balmeru/Downloads/announcer_frame_1992.csv\" \n",
    "announcer_frame.to_csv(output_csv_path)\n",
    "\n",
    "print(f\"The Announcer Frame has been created and saved to {output_csv_path}\")"
   ]
  },
  {
   "cell_type": "code",
   "execution_count": 17,
   "id": "7f431aba-59d7-4a22-83dc-78b65f836d83",
   "metadata": {},
   "outputs": [
    {
     "name": "stdout",
     "output_type": "stream",
     "text": [
      "The Announcer Frame has been created and saved to /Users/balmeru/Downloads/announcer_frame_1993.csv\n"
     ]
    }
   ],
   "source": [
    "import pandas as pd\n",
    "import numpy as np\n",
    "\n",
    "returns_csv_path = \"/Users/balmeru/Downloads/filtered_weekly_returns_1993.csv\"  \n",
    "announcement_csv_path = \"/Users/balmeru/Downloads/True_False_1993.csv\" \n",
    "returns_pivot = pd.read_csv(returns_csv_path, index_col=0)  \n",
    "announcement_pivot = pd.read_csv(announcement_csv_path, index_col=0)  \n",
    "returns_pivot.index = pd.to_datetime(returns_pivot.index,  errors='raise')\n",
    "announcement_pivot.index = pd.to_datetime(announcement_pivot.index,  errors='raise')\n",
    "\n",
    "combined_index = returns_pivot.index.union(announcement_pivot.index).unique().sort_values()\n",
    "returns_pivot = returns_pivot.reindex(combined_index)\n",
    "announcement_pivot = announcement_pivot.reindex(combined_index)\n",
    "\n",
    "assert returns_pivot.columns.equals(announcement_pivot.columns), \"Columns do not match\"\n",
    "\n",
    "announcer_frame = returns_pivot.copy()\n",
    "announcer_frame[announcement_pivot != True] = np.nan  \n",
    "announcer_frame['Average Return'] = announcer_frame.mean(axis=1, skipna=True)  \n",
    "output_csv_path = \"/Users/balmeru/Downloads/announcer_frame_1993.csv\" \n",
    "announcer_frame.to_csv(output_csv_path)\n",
    "\n",
    "print(f\"The Announcer Frame has been created and saved to {output_csv_path}\")"
   ]
  },
  {
   "cell_type": "code",
   "execution_count": 18,
   "id": "a7fc4104-3928-4afe-9088-8ca950df1cd3",
   "metadata": {},
   "outputs": [
    {
     "name": "stdout",
     "output_type": "stream",
     "text": [
      "The Announcer Frame has been created and saved to /Users/balmeru/Downloads/announcer_frame_1994.csv\n"
     ]
    }
   ],
   "source": [
    "import pandas as pd\n",
    "import numpy as np\n",
    "\n",
    "returns_csv_path = \"/Users/balmeru/Downloads/filtered_weekly_returns_1994.csv\"  \n",
    "announcement_csv_path = \"/Users/balmeru/Downloads/True_False_1994.csv\" \n",
    "returns_pivot = pd.read_csv(returns_csv_path, index_col=0)  \n",
    "announcement_pivot = pd.read_csv(announcement_csv_path, index_col=0)  \n",
    "returns_pivot.index = pd.to_datetime(returns_pivot.index,  errors='raise')\n",
    "announcement_pivot.index = pd.to_datetime(announcement_pivot.index,  errors='raise')\n",
    "\n",
    "combined_index = returns_pivot.index.union(announcement_pivot.index).unique().sort_values()\n",
    "returns_pivot = returns_pivot.reindex(combined_index)\n",
    "announcement_pivot = announcement_pivot.reindex(combined_index)\n",
    "\n",
    "assert returns_pivot.columns.equals(announcement_pivot.columns), \"Columns do not match\"\n",
    "\n",
    "announcer_frame = returns_pivot.copy()\n",
    "announcer_frame[announcement_pivot != True] = np.nan  \n",
    "announcer_frame['Average Return'] = announcer_frame.mean(axis=1, skipna=True)  \n",
    "output_csv_path = \"/Users/balmeru/Downloads/announcer_frame_1994.csv\" \n",
    "announcer_frame.to_csv(output_csv_path)\n",
    "\n",
    "print(f\"The Announcer Frame has been created and saved to {output_csv_path}\")"
   ]
  },
  {
   "cell_type": "code",
   "execution_count": 19,
   "id": "a2983e84-c920-47b9-a6e8-6939f0d70180",
   "metadata": {},
   "outputs": [
    {
     "name": "stdout",
     "output_type": "stream",
     "text": [
      "The Announcer Frame has been created and saved to /Users/balmeru/Downloads/announcer_frame_1995.csv\n"
     ]
    }
   ],
   "source": [
    "import pandas as pd\n",
    "import numpy as np\n",
    "\n",
    "returns_csv_path = \"/Users/balmeru/Downloads/filtered_weekly_returns_1995.csv\"  \n",
    "announcement_csv_path = \"/Users/balmeru/Downloads/True_False_1995.csv\" \n",
    "returns_pivot = pd.read_csv(returns_csv_path, index_col=0)  \n",
    "announcement_pivot = pd.read_csv(announcement_csv_path, index_col=0)  \n",
    "returns_pivot.index = pd.to_datetime(returns_pivot.index,  errors='raise')\n",
    "announcement_pivot.index = pd.to_datetime(announcement_pivot.index,  errors='raise')\n",
    "\n",
    "combined_index = returns_pivot.index.union(announcement_pivot.index).unique().sort_values()\n",
    "returns_pivot = returns_pivot.reindex(combined_index)\n",
    "announcement_pivot = announcement_pivot.reindex(combined_index)\n",
    "\n",
    "assert returns_pivot.columns.equals(announcement_pivot.columns), \"Columns do not match\"\n",
    "\n",
    "announcer_frame = returns_pivot.copy()\n",
    "announcer_frame[announcement_pivot != True] = np.nan  \n",
    "announcer_frame['Average Return'] = announcer_frame.mean(axis=1, skipna=True)  \n",
    "output_csv_path = \"/Users/balmeru/Downloads/announcer_frame_1995.csv\" \n",
    "announcer_frame.to_csv(output_csv_path)\n",
    "\n",
    "print(f\"The Announcer Frame has been created and saved to {output_csv_path}\")"
   ]
  },
  {
   "cell_type": "code",
   "execution_count": 20,
   "id": "a803608b-3a61-4f28-ba9d-78db4efa161b",
   "metadata": {},
   "outputs": [
    {
     "name": "stdout",
     "output_type": "stream",
     "text": [
      "The Announcer Frame has been created and saved to /Users/balmeru/Downloads/announcer_frame_1996.csv\n"
     ]
    }
   ],
   "source": [
    "import pandas as pd\n",
    "import numpy as np\n",
    "\n",
    "returns_csv_path = \"/Users/balmeru/Downloads/filtered_weekly_returns_1996.csv\"  \n",
    "announcement_csv_path = \"/Users/balmeru/Downloads/True_False_1996.csv\" \n",
    "returns_pivot = pd.read_csv(returns_csv_path, index_col=0)  \n",
    "announcement_pivot = pd.read_csv(announcement_csv_path, index_col=0)  \n",
    "returns_pivot.index = pd.to_datetime(returns_pivot.index,  errors='raise')\n",
    "announcement_pivot.index = pd.to_datetime(announcement_pivot.index,  errors='raise')\n",
    "\n",
    "combined_index = returns_pivot.index.union(announcement_pivot.index).unique().sort_values()\n",
    "returns_pivot = returns_pivot.reindex(combined_index)\n",
    "announcement_pivot = announcement_pivot.reindex(combined_index)\n",
    "\n",
    "assert returns_pivot.columns.equals(announcement_pivot.columns), \"Columns do not match\"\n",
    "\n",
    "announcer_frame = returns_pivot.copy()\n",
    "announcer_frame[announcement_pivot != True] = np.nan  \n",
    "announcer_frame['Average Return'] = announcer_frame.mean(axis=1, skipna=True)  \n",
    "output_csv_path = \"/Users/balmeru/Downloads/announcer_frame_1996.csv\" \n",
    "announcer_frame.to_csv(output_csv_path)\n",
    "\n",
    "print(f\"The Announcer Frame has been created and saved to {output_csv_path}\")"
   ]
  },
  {
   "cell_type": "code",
   "execution_count": 21,
   "id": "b72e48a5-89b8-4e07-8e92-fd6895f96ac4",
   "metadata": {},
   "outputs": [
    {
     "name": "stdout",
     "output_type": "stream",
     "text": [
      "The Announcer Frame has been created and saved to /Users/balmeru/Downloads/announcer_frame_1997.csv\n"
     ]
    }
   ],
   "source": [
    "import pandas as pd\n",
    "import numpy as np\n",
    "\n",
    "returns_csv_path = \"/Users/balmeru/Downloads/filtered_weekly_returns_1997.csv\"  \n",
    "announcement_csv_path = \"/Users/balmeru/Downloads/True_False_1997.csv\" \n",
    "returns_pivot = pd.read_csv(returns_csv_path, index_col=0)  \n",
    "announcement_pivot = pd.read_csv(announcement_csv_path, index_col=0)  \n",
    "returns_pivot.index = pd.to_datetime(returns_pivot.index,  errors='raise')\n",
    "announcement_pivot.index = pd.to_datetime(announcement_pivot.index,  errors='raise')\n",
    "\n",
    "combined_index = returns_pivot.index.union(announcement_pivot.index).unique().sort_values()\n",
    "returns_pivot = returns_pivot.reindex(combined_index)\n",
    "announcement_pivot = announcement_pivot.reindex(combined_index)\n",
    "\n",
    "assert returns_pivot.columns.equals(announcement_pivot.columns), \"Columns do not match\"\n",
    "\n",
    "announcer_frame = returns_pivot.copy()\n",
    "announcer_frame[announcement_pivot != True] = np.nan  \n",
    "announcer_frame['Average Return'] = announcer_frame.mean(axis=1, skipna=True)  \n",
    "output_csv_path = \"/Users/balmeru/Downloads/announcer_frame_1997.csv\" \n",
    "announcer_frame.to_csv(output_csv_path)\n",
    "\n",
    "print(f\"The Announcer Frame has been created and saved to {output_csv_path}\")"
   ]
  },
  {
   "cell_type": "code",
   "execution_count": 22,
   "id": "269ba256-70e4-4877-a07b-dfd128b2810a",
   "metadata": {},
   "outputs": [
    {
     "name": "stdout",
     "output_type": "stream",
     "text": [
      "The Announcer Frame has been created and saved to /Users/balmeru/Downloads/announcer_frame_1998.csv\n"
     ]
    }
   ],
   "source": [
    "import pandas as pd\n",
    "import numpy as np\n",
    "\n",
    "returns_csv_path = \"/Users/balmeru/Downloads/filtered_weekly_returns_1998.csv\"  \n",
    "announcement_csv_path = \"/Users/balmeru/Downloads/True_False_1998.csv\" \n",
    "returns_pivot = pd.read_csv(returns_csv_path, index_col=0)  \n",
    "announcement_pivot = pd.read_csv(announcement_csv_path, index_col=0)  \n",
    "returns_pivot.index = pd.to_datetime(returns_pivot.index,  errors='raise')\n",
    "announcement_pivot.index = pd.to_datetime(announcement_pivot.index,  errors='raise')\n",
    "\n",
    "combined_index = returns_pivot.index.union(announcement_pivot.index).unique().sort_values()\n",
    "returns_pivot = returns_pivot.reindex(combined_index)\n",
    "announcement_pivot = announcement_pivot.reindex(combined_index)\n",
    "\n",
    "assert returns_pivot.columns.equals(announcement_pivot.columns), \"Columns do not match\"\n",
    "\n",
    "announcer_frame = returns_pivot.copy()\n",
    "announcer_frame[announcement_pivot != True] = np.nan  \n",
    "announcer_frame['Average Return'] = announcer_frame.mean(axis=1, skipna=True)  \n",
    "output_csv_path = \"/Users/balmeru/Downloads/announcer_frame_1998.csv\" \n",
    "announcer_frame.to_csv(output_csv_path)\n",
    "\n",
    "print(f\"The Announcer Frame has been created and saved to {output_csv_path}\")"
   ]
  },
  {
   "cell_type": "code",
   "execution_count": 23,
   "id": "5ac49f6e-2035-4ef5-a5f1-4231cb041d63",
   "metadata": {},
   "outputs": [
    {
     "name": "stdout",
     "output_type": "stream",
     "text": [
      "The Announcer Frame has been created and saved to /Users/balmeru/Downloads/announcer_frame_1999.csv\n"
     ]
    }
   ],
   "source": [
    "import pandas as pd\n",
    "import numpy as np\n",
    "\n",
    "returns_csv_path = \"/Users/balmeru/Downloads/filtered_weekly_returns_1999.csv\"  \n",
    "announcement_csv_path = \"/Users/balmeru/Downloads/True_False_1999.csv\" \n",
    "returns_pivot = pd.read_csv(returns_csv_path, index_col=0)  \n",
    "announcement_pivot = pd.read_csv(announcement_csv_path, index_col=0)  \n",
    "returns_pivot.index = pd.to_datetime(returns_pivot.index,  errors='raise')\n",
    "announcement_pivot.index = pd.to_datetime(announcement_pivot.index,  errors='raise')\n",
    "\n",
    "combined_index = returns_pivot.index.union(announcement_pivot.index).unique().sort_values()\n",
    "returns_pivot = returns_pivot.reindex(combined_index)\n",
    "announcement_pivot = announcement_pivot.reindex(combined_index)\n",
    "\n",
    "assert returns_pivot.columns.equals(announcement_pivot.columns), \"Columns do not match\"\n",
    "\n",
    "announcer_frame = returns_pivot.copy()\n",
    "announcer_frame[announcement_pivot != True] = np.nan  \n",
    "announcer_frame['Average Return'] = announcer_frame.mean(axis=1, skipna=True)  \n",
    "output_csv_path = \"/Users/balmeru/Downloads/announcer_frame_1999.csv\" \n",
    "announcer_frame.to_csv(output_csv_path)\n",
    "\n",
    "print(f\"The Announcer Frame has been created and saved to {output_csv_path}\")"
   ]
  },
  {
   "cell_type": "code",
   "execution_count": 24,
   "id": "c249ddd7-f880-4406-a08f-eb39adea8512",
   "metadata": {},
   "outputs": [
    {
     "name": "stdout",
     "output_type": "stream",
     "text": [
      "The Announcer Frame has been created and saved to /Users/balmeru/Downloads/announcer_frame_2000.csv\n"
     ]
    }
   ],
   "source": [
    "import pandas as pd\n",
    "import numpy as np\n",
    "\n",
    "returns_csv_path = \"/Users/balmeru/Downloads/filtered_weekly_returns_2000.csv\"  \n",
    "announcement_csv_path = \"/Users/balmeru/Downloads/True_False_2000.csv\" \n",
    "returns_pivot = pd.read_csv(returns_csv_path, index_col=0)  \n",
    "announcement_pivot = pd.read_csv(announcement_csv_path, index_col=0)  \n",
    "returns_pivot.index = pd.to_datetime(returns_pivot.index,  errors='raise')\n",
    "announcement_pivot.index = pd.to_datetime(announcement_pivot.index,  errors='raise')\n",
    "\n",
    "combined_index = returns_pivot.index.union(announcement_pivot.index).unique().sort_values()\n",
    "returns_pivot = returns_pivot.reindex(combined_index)\n",
    "announcement_pivot = announcement_pivot.reindex(combined_index)\n",
    "\n",
    "assert returns_pivot.columns.equals(announcement_pivot.columns), \"Columns do not match\"\n",
    "\n",
    "announcer_frame = returns_pivot.copy()\n",
    "announcer_frame[announcement_pivot != True] = np.nan  \n",
    "announcer_frame['Average Return'] = announcer_frame.mean(axis=1, skipna=True)  \n",
    "output_csv_path = \"/Users/balmeru/Downloads/announcer_frame_2000.csv\" \n",
    "announcer_frame.to_csv(output_csv_path)\n",
    "\n",
    "print(f\"The Announcer Frame has been created and saved to {output_csv_path}\")"
   ]
  },
  {
   "cell_type": "code",
   "execution_count": 25,
   "id": "a02b6253-b98d-41e2-b527-1f3dbc857384",
   "metadata": {},
   "outputs": [
    {
     "name": "stdout",
     "output_type": "stream",
     "text": [
      "The Announcer Frame has been created and saved to /Users/balmeru/Downloads/announcer_frame_2001.csv\n"
     ]
    }
   ],
   "source": [
    "import pandas as pd\n",
    "import numpy as np\n",
    "\n",
    "returns_csv_path = \"/Users/balmeru/Downloads/filtered_weekly_returns_2001.csv\"  \n",
    "announcement_csv_path = \"/Users/balmeru/Downloads/True_False_2001.csv\" \n",
    "returns_pivot = pd.read_csv(returns_csv_path, index_col=0)  \n",
    "announcement_pivot = pd.read_csv(announcement_csv_path, index_col=0)  \n",
    "returns_pivot.index = pd.to_datetime(returns_pivot.index,  errors='raise')\n",
    "announcement_pivot.index = pd.to_datetime(announcement_pivot.index,  errors='raise')\n",
    "\n",
    "combined_index = returns_pivot.index.union(announcement_pivot.index).unique().sort_values()\n",
    "returns_pivot = returns_pivot.reindex(combined_index)\n",
    "announcement_pivot = announcement_pivot.reindex(combined_index)\n",
    "\n",
    "assert returns_pivot.columns.equals(announcement_pivot.columns), \"Columns do not match\"\n",
    "\n",
    "announcer_frame = returns_pivot.copy()\n",
    "announcer_frame[announcement_pivot != True] = np.nan  \n",
    "announcer_frame['Average Return'] = announcer_frame.mean(axis=1, skipna=True)  \n",
    "output_csv_path = \"/Users/balmeru/Downloads/announcer_frame_2001.csv\" \n",
    "announcer_frame.to_csv(output_csv_path)\n",
    "\n",
    "print(f\"The Announcer Frame has been created and saved to {output_csv_path}\")"
   ]
  },
  {
   "cell_type": "code",
   "execution_count": 26,
   "id": "acffaf2d-3364-44de-9e2e-9c0b27824ee7",
   "metadata": {},
   "outputs": [
    {
     "name": "stdout",
     "output_type": "stream",
     "text": [
      "The Announcer Frame has been created and saved to /Users/balmeru/Downloads/announcer_frame_2002.csv\n"
     ]
    }
   ],
   "source": [
    "import pandas as pd\n",
    "import numpy as np\n",
    "\n",
    "returns_csv_path = \"/Users/balmeru/Downloads/filtered_weekly_returns_2002.csv\"  \n",
    "announcement_csv_path = \"/Users/balmeru/Downloads/True_False_2002.csv\" \n",
    "returns_pivot = pd.read_csv(returns_csv_path, index_col=0)  \n",
    "announcement_pivot = pd.read_csv(announcement_csv_path, index_col=0)  \n",
    "returns_pivot.index = pd.to_datetime(returns_pivot.index,  errors='raise')\n",
    "announcement_pivot.index = pd.to_datetime(announcement_pivot.index,  errors='raise')\n",
    "\n",
    "combined_index = returns_pivot.index.union(announcement_pivot.index).unique().sort_values()\n",
    "returns_pivot = returns_pivot.reindex(combined_index)\n",
    "announcement_pivot = announcement_pivot.reindex(combined_index)\n",
    "\n",
    "assert returns_pivot.columns.equals(announcement_pivot.columns), \"Columns do not match\"\n",
    "\n",
    "announcer_frame = returns_pivot.copy()\n",
    "announcer_frame[announcement_pivot != True] = np.nan  \n",
    "announcer_frame['Average Return'] = announcer_frame.mean(axis=1, skipna=True)  \n",
    "output_csv_path = \"/Users/balmeru/Downloads/announcer_frame_2002.csv\" \n",
    "announcer_frame.to_csv(output_csv_path)\n",
    "\n",
    "print(f\"The Announcer Frame has been created and saved to {output_csv_path}\")"
   ]
  },
  {
   "cell_type": "code",
   "execution_count": 27,
   "id": "3419894a-39be-4fdb-b0eb-77ff3186965d",
   "metadata": {},
   "outputs": [
    {
     "name": "stdout",
     "output_type": "stream",
     "text": [
      "The Announcer Frame has been created and saved to /Users/balmeru/Downloads/announcer_frame_2003.csv\n"
     ]
    }
   ],
   "source": [
    "import pandas as pd\n",
    "import numpy as np\n",
    "\n",
    "returns_csv_path = \"/Users/balmeru/Downloads/filtered_weekly_returns_2003.csv\"  \n",
    "announcement_csv_path = \"/Users/balmeru/Downloads/True_False_2003.csv\" \n",
    "returns_pivot = pd.read_csv(returns_csv_path, index_col=0)  \n",
    "announcement_pivot = pd.read_csv(announcement_csv_path, index_col=0)  \n",
    "returns_pivot.index = pd.to_datetime(returns_pivot.index,  errors='raise')\n",
    "announcement_pivot.index = pd.to_datetime(announcement_pivot.index,  errors='raise')\n",
    "\n",
    "combined_index = returns_pivot.index.union(announcement_pivot.index).unique().sort_values()\n",
    "returns_pivot = returns_pivot.reindex(combined_index)\n",
    "announcement_pivot = announcement_pivot.reindex(combined_index)\n",
    "\n",
    "assert returns_pivot.columns.equals(announcement_pivot.columns), \"Columns do not match\"\n",
    "\n",
    "announcer_frame = returns_pivot.copy()\n",
    "announcer_frame[announcement_pivot != True] = np.nan  \n",
    "announcer_frame['Average Return'] = announcer_frame.mean(axis=1, skipna=True)  \n",
    "output_csv_path = \"/Users/balmeru/Downloads/announcer_frame_2003.csv\" \n",
    "announcer_frame.to_csv(output_csv_path)\n",
    "\n",
    "print(f\"The Announcer Frame has been created and saved to {output_csv_path}\")"
   ]
  },
  {
   "cell_type": "code",
   "execution_count": 28,
   "id": "0ab98ac1-f6ad-443c-9c0d-79bff0d55de1",
   "metadata": {},
   "outputs": [
    {
     "name": "stdout",
     "output_type": "stream",
     "text": [
      "The Announcer Frame has been created and saved to /Users/balmeru/Downloads/announcer_frame_2004.csv\n"
     ]
    }
   ],
   "source": [
    "import pandas as pd\n",
    "import numpy as np\n",
    "\n",
    "returns_csv_path = \"/Users/balmeru/Downloads/filtered_weekly_returns_2004.csv\"  \n",
    "announcement_csv_path = \"/Users/balmeru/Downloads/True_False_2004.csv\" \n",
    "returns_pivot = pd.read_csv(returns_csv_path, index_col=0)  \n",
    "announcement_pivot = pd.read_csv(announcement_csv_path, index_col=0)  \n",
    "returns_pivot.index = pd.to_datetime(returns_pivot.index,  errors='raise')\n",
    "announcement_pivot.index = pd.to_datetime(announcement_pivot.index,  errors='raise')\n",
    "\n",
    "combined_index = returns_pivot.index.union(announcement_pivot.index).unique().sort_values()\n",
    "returns_pivot = returns_pivot.reindex(combined_index)\n",
    "announcement_pivot = announcement_pivot.reindex(combined_index)\n",
    "\n",
    "assert returns_pivot.columns.equals(announcement_pivot.columns), \"Columns do not match\"\n",
    "\n",
    "announcer_frame = returns_pivot.copy()\n",
    "announcer_frame[announcement_pivot != True] = np.nan  \n",
    "announcer_frame['Average Return'] = announcer_frame.mean(axis=1, skipna=True)  \n",
    "output_csv_path = \"/Users/balmeru/Downloads/announcer_frame_2004.csv\" \n",
    "announcer_frame.to_csv(output_csv_path)\n",
    "\n",
    "print(f\"The Announcer Frame has been created and saved to {output_csv_path}\")"
   ]
  },
  {
   "cell_type": "code",
   "execution_count": 29,
   "id": "b22808a4-723c-4506-852c-4fbb2af51430",
   "metadata": {},
   "outputs": [
    {
     "name": "stdout",
     "output_type": "stream",
     "text": [
      "The Announcer Frame has been created and saved to /Users/balmeru/Downloads/announcer_frame_2005.csv\n"
     ]
    }
   ],
   "source": [
    "import pandas as pd\n",
    "import numpy as np\n",
    "\n",
    "returns_csv_path = \"/Users/balmeru/Downloads/filtered_weekly_returns_2005.csv\"  \n",
    "announcement_csv_path = \"/Users/balmeru/Downloads/True_False_2005.csv\" \n",
    "returns_pivot = pd.read_csv(returns_csv_path, index_col=0)  \n",
    "announcement_pivot = pd.read_csv(announcement_csv_path, index_col=0)  \n",
    "returns_pivot.index = pd.to_datetime(returns_pivot.index,  errors='raise')\n",
    "announcement_pivot.index = pd.to_datetime(announcement_pivot.index,  errors='raise')\n",
    "\n",
    "combined_index = returns_pivot.index.union(announcement_pivot.index).unique().sort_values()\n",
    "returns_pivot = returns_pivot.reindex(combined_index)\n",
    "announcement_pivot = announcement_pivot.reindex(combined_index)\n",
    "\n",
    "assert returns_pivot.columns.equals(announcement_pivot.columns), \"Columns do not match\"\n",
    "\n",
    "announcer_frame = returns_pivot.copy()\n",
    "announcer_frame[announcement_pivot != True] = np.nan  \n",
    "announcer_frame['Average Return'] = announcer_frame.mean(axis=1, skipna=True)  \n",
    "output_csv_path = \"/Users/balmeru/Downloads/announcer_frame_2005.csv\" \n",
    "announcer_frame.to_csv(output_csv_path)\n",
    "\n",
    "print(f\"The Announcer Frame has been created and saved to {output_csv_path}\")"
   ]
  },
  {
   "cell_type": "code",
   "execution_count": 30,
   "id": "81c0e12f-c05f-4acd-810c-8d533658059b",
   "metadata": {},
   "outputs": [
    {
     "name": "stdout",
     "output_type": "stream",
     "text": [
      "The Announcer Frame has been created and saved to /Users/balmeru/Downloads/announcer_frame_2006.csv\n"
     ]
    }
   ],
   "source": [
    "import pandas as pd\n",
    "import numpy as np\n",
    "\n",
    "returns_csv_path = \"/Users/balmeru/Downloads/filtered_weekly_returns_2006.csv\"  \n",
    "announcement_csv_path = \"/Users/balmeru/Downloads/True_False_2006.csv\" \n",
    "returns_pivot = pd.read_csv(returns_csv_path, index_col=0)  \n",
    "announcement_pivot = pd.read_csv(announcement_csv_path, index_col=0)  \n",
    "returns_pivot.index = pd.to_datetime(returns_pivot.index,  errors='raise')\n",
    "announcement_pivot.index = pd.to_datetime(announcement_pivot.index,  errors='raise')\n",
    "\n",
    "combined_index = returns_pivot.index.union(announcement_pivot.index).unique().sort_values()\n",
    "returns_pivot = returns_pivot.reindex(combined_index)\n",
    "announcement_pivot = announcement_pivot.reindex(combined_index)\n",
    "\n",
    "assert returns_pivot.columns.equals(announcement_pivot.columns), \"Columns do not match\"\n",
    "\n",
    "announcer_frame = returns_pivot.copy()\n",
    "announcer_frame[announcement_pivot != True] = np.nan  \n",
    "announcer_frame['Average Return'] = announcer_frame.mean(axis=1, skipna=True)  \n",
    "output_csv_path = \"/Users/balmeru/Downloads/announcer_frame_2006.csv\" \n",
    "announcer_frame.to_csv(output_csv_path)\n",
    "\n",
    "print(f\"The Announcer Frame has been created and saved to {output_csv_path}\")"
   ]
  },
  {
   "cell_type": "code",
   "execution_count": 31,
   "id": "29813e90-eef8-4b60-a6d4-d533cb1bf1dd",
   "metadata": {},
   "outputs": [
    {
     "name": "stdout",
     "output_type": "stream",
     "text": [
      "The Announcer Frame has been created and saved to /Users/balmeru/Downloads/announcer_frame_2007.csv\n"
     ]
    }
   ],
   "source": [
    "import pandas as pd\n",
    "import numpy as np\n",
    "\n",
    "returns_csv_path = \"/Users/balmeru/Downloads/filtered_weekly_returns_2007.csv\"  \n",
    "announcement_csv_path = \"/Users/balmeru/Downloads/True_False_2007.csv\" \n",
    "returns_pivot = pd.read_csv(returns_csv_path, index_col=0)  \n",
    "announcement_pivot = pd.read_csv(announcement_csv_path, index_col=0)  \n",
    "returns_pivot.index = pd.to_datetime(returns_pivot.index,  errors='raise')\n",
    "announcement_pivot.index = pd.to_datetime(announcement_pivot.index,  errors='raise')\n",
    "\n",
    "combined_index = returns_pivot.index.union(announcement_pivot.index).unique().sort_values()\n",
    "returns_pivot = returns_pivot.reindex(combined_index)\n",
    "announcement_pivot = announcement_pivot.reindex(combined_index)\n",
    "\n",
    "assert returns_pivot.columns.equals(announcement_pivot.columns), \"Columns do not match\"\n",
    "\n",
    "announcer_frame = returns_pivot.copy()\n",
    "announcer_frame[announcement_pivot != True] = np.nan  \n",
    "announcer_frame['Average Return'] = announcer_frame.mean(axis=1, skipna=True)  \n",
    "output_csv_path = \"/Users/balmeru/Downloads/announcer_frame_2007.csv\" \n",
    "announcer_frame.to_csv(output_csv_path)\n",
    "\n",
    "print(f\"The Announcer Frame has been created and saved to {output_csv_path}\")"
   ]
  },
  {
   "cell_type": "code",
   "execution_count": 32,
   "id": "2d50cd97-1487-426e-8736-fef69fad21e3",
   "metadata": {},
   "outputs": [
    {
     "name": "stdout",
     "output_type": "stream",
     "text": [
      "The Announcer Frame has been created and saved to /Users/balmeru/Downloads/announcer_frame_2008.csv\n"
     ]
    }
   ],
   "source": [
    "import pandas as pd\n",
    "import numpy as np\n",
    "\n",
    "returns_csv_path = \"/Users/balmeru/Downloads/filtered_weekly_returns_2008.csv\"  \n",
    "announcement_csv_path = \"/Users/balmeru/Downloads/True_False_2008.csv\" \n",
    "returns_pivot = pd.read_csv(returns_csv_path, index_col=0)  \n",
    "announcement_pivot = pd.read_csv(announcement_csv_path, index_col=0)  \n",
    "returns_pivot.index = pd.to_datetime(returns_pivot.index,  errors='raise')\n",
    "announcement_pivot.index = pd.to_datetime(announcement_pivot.index,  errors='raise')\n",
    "\n",
    "combined_index = returns_pivot.index.union(announcement_pivot.index).unique().sort_values()\n",
    "returns_pivot = returns_pivot.reindex(combined_index)\n",
    "announcement_pivot = announcement_pivot.reindex(combined_index)\n",
    "\n",
    "assert returns_pivot.columns.equals(announcement_pivot.columns), \"Columns do not match\"\n",
    "\n",
    "announcer_frame = returns_pivot.copy()\n",
    "announcer_frame[announcement_pivot != True] = np.nan  \n",
    "announcer_frame['Average Return'] = announcer_frame.mean(axis=1, skipna=True)  \n",
    "output_csv_path = \"/Users/balmeru/Downloads/announcer_frame_2008.csv\" \n",
    "announcer_frame.to_csv(output_csv_path)\n",
    "\n",
    "print(f\"The Announcer Frame has been created and saved to {output_csv_path}\")"
   ]
  },
  {
   "cell_type": "code",
   "execution_count": 34,
   "id": "4f7c64f4-1d42-42bf-9931-a48fbf9b6be1",
   "metadata": {},
   "outputs": [
    {
     "name": "stdout",
     "output_type": "stream",
     "text": [
      "The Announcer Frame has been created and saved to /Users/balmeru/Downloads/announcer_frame_2009.csv\n"
     ]
    }
   ],
   "source": [
    "import pandas as pd\n",
    "import numpy as np\n",
    "\n",
    "returns_csv_path = \"/Users/balmeru/Downloads/filtered_weekly_returns_2009.csv\"  \n",
    "announcement_csv_path = \"/Users/balmeru/Downloads/True_False_2009.csv\" \n",
    "returns_pivot = pd.read_csv(returns_csv_path, index_col=0)  \n",
    "announcement_pivot = pd.read_csv(announcement_csv_path, index_col=0)  \n",
    "returns_pivot.index = pd.to_datetime(returns_pivot.index,  errors='raise')\n",
    "announcement_pivot.index = pd.to_datetime(announcement_pivot.index,  errors='raise')\n",
    "\n",
    "combined_index = returns_pivot.index.union(announcement_pivot.index).unique().sort_values()\n",
    "returns_pivot = returns_pivot.reindex(combined_index)\n",
    "announcement_pivot = announcement_pivot.reindex(combined_index)\n",
    "\n",
    "assert returns_pivot.columns.equals(announcement_pivot.columns), \"Columns do not match\"\n",
    "\n",
    "announcer_frame = returns_pivot.copy()\n",
    "announcer_frame[announcement_pivot != True] = np.nan  \n",
    "announcer_frame['Average Return'] = announcer_frame.mean(axis=1, skipna=True)  \n",
    "output_csv_path = \"/Users/balmeru/Downloads/announcer_frame_2009.csv\" \n",
    "announcer_frame.to_csv(output_csv_path)\n",
    "\n",
    "print(f\"The Announcer Frame has been created and saved to {output_csv_path}\")"
   ]
  },
  {
   "cell_type": "code",
   "execution_count": 35,
   "id": "1cbbbed9-8c9c-4b54-9fe5-9fb61f71cc5d",
   "metadata": {},
   "outputs": [
    {
     "name": "stdout",
     "output_type": "stream",
     "text": [
      "The Announcer Frame has been created and saved to /Users/balmeru/Downloads/announcer_frame_2010.csv\n"
     ]
    }
   ],
   "source": [
    "import pandas as pd\n",
    "import numpy as np\n",
    "\n",
    "returns_csv_path = \"/Users/balmeru/Downloads/filtered_weekly_returns_2010.csv\"  \n",
    "announcement_csv_path = \"/Users/balmeru/Downloads/True_False_2010.csv\" \n",
    "returns_pivot = pd.read_csv(returns_csv_path, index_col=0)  \n",
    "announcement_pivot = pd.read_csv(announcement_csv_path, index_col=0)  \n",
    "returns_pivot.index = pd.to_datetime(returns_pivot.index,  errors='raise')\n",
    "announcement_pivot.index = pd.to_datetime(announcement_pivot.index,  errors='raise')\n",
    "\n",
    "combined_index = returns_pivot.index.union(announcement_pivot.index).unique().sort_values()\n",
    "returns_pivot = returns_pivot.reindex(combined_index)\n",
    "announcement_pivot = announcement_pivot.reindex(combined_index)\n",
    "\n",
    "assert returns_pivot.columns.equals(announcement_pivot.columns), \"Columns do not match\"\n",
    "\n",
    "announcer_frame = returns_pivot.copy()\n",
    "announcer_frame[announcement_pivot != True] = np.nan  \n",
    "announcer_frame['Average Return'] = announcer_frame.mean(axis=1, skipna=True)  \n",
    "output_csv_path = \"/Users/balmeru/Downloads/announcer_frame_2010.csv\" \n",
    "announcer_frame.to_csv(output_csv_path)\n",
    "\n",
    "print(f\"The Announcer Frame has been created and saved to {output_csv_path}\")"
   ]
  },
  {
   "cell_type": "code",
   "execution_count": 36,
   "id": "adfaf613-1b7c-46de-9b28-45f55980337b",
   "metadata": {},
   "outputs": [
    {
     "name": "stdout",
     "output_type": "stream",
     "text": [
      "The Announcer Frame has been created and saved to /Users/balmeru/Downloads/announcer_frame_2011.csv\n"
     ]
    }
   ],
   "source": [
    "import pandas as pd\n",
    "import numpy as np\n",
    "\n",
    "returns_csv_path = \"/Users/balmeru/Downloads/filtered_weekly_returns_2011.csv\"  \n",
    "announcement_csv_path = \"/Users/balmeru/Downloads/True_False_2011.csv\" \n",
    "returns_pivot = pd.read_csv(returns_csv_path, index_col=0)  \n",
    "announcement_pivot = pd.read_csv(announcement_csv_path, index_col=0)  \n",
    "returns_pivot.index = pd.to_datetime(returns_pivot.index,  errors='raise')\n",
    "announcement_pivot.index = pd.to_datetime(announcement_pivot.index,  errors='raise')\n",
    "\n",
    "combined_index = returns_pivot.index.union(announcement_pivot.index).unique().sort_values()\n",
    "returns_pivot = returns_pivot.reindex(combined_index)\n",
    "announcement_pivot = announcement_pivot.reindex(combined_index)\n",
    "\n",
    "assert returns_pivot.columns.equals(announcement_pivot.columns), \"Columns do not match\"\n",
    "\n",
    "announcer_frame = returns_pivot.copy()\n",
    "announcer_frame[announcement_pivot != True] = np.nan  \n",
    "announcer_frame['Average Return'] = announcer_frame.mean(axis=1, skipna=True)  \n",
    "output_csv_path = \"/Users/balmeru/Downloads/announcer_frame_2011.csv\" \n",
    "announcer_frame.to_csv(output_csv_path)\n",
    "\n",
    "print(f\"The Announcer Frame has been created and saved to {output_csv_path}\")"
   ]
  },
  {
   "cell_type": "code",
   "execution_count": 37,
   "id": "7568a06d-a750-402d-9c48-734700f9fb09",
   "metadata": {},
   "outputs": [
    {
     "name": "stdout",
     "output_type": "stream",
     "text": [
      "The Announcer Frame has been created and saved to /Users/balmeru/Downloads/announcer_frame_2012.csv\n"
     ]
    }
   ],
   "source": [
    "import pandas as pd\n",
    "import numpy as np\n",
    "\n",
    "returns_csv_path = \"/Users/balmeru/Downloads/filtered_weekly_returns_2012.csv\"  \n",
    "announcement_csv_path = \"/Users/balmeru/Downloads/True_False_2012.csv\" \n",
    "returns_pivot = pd.read_csv(returns_csv_path, index_col=0)  \n",
    "announcement_pivot = pd.read_csv(announcement_csv_path, index_col=0)  \n",
    "returns_pivot.index = pd.to_datetime(returns_pivot.index,  errors='raise')\n",
    "announcement_pivot.index = pd.to_datetime(announcement_pivot.index,  errors='raise')\n",
    "\n",
    "combined_index = returns_pivot.index.union(announcement_pivot.index).unique().sort_values()\n",
    "returns_pivot = returns_pivot.reindex(combined_index)\n",
    "announcement_pivot = announcement_pivot.reindex(combined_index)\n",
    "\n",
    "assert returns_pivot.columns.equals(announcement_pivot.columns), \"Columns do not match\"\n",
    "\n",
    "announcer_frame = returns_pivot.copy()\n",
    "announcer_frame[announcement_pivot != True] = np.nan  \n",
    "announcer_frame['Average Return'] = announcer_frame.mean(axis=1, skipna=True)  \n",
    "output_csv_path = \"/Users/balmeru/Downloads/announcer_frame_2012.csv\" \n",
    "announcer_frame.to_csv(output_csv_path)\n",
    "\n",
    "print(f\"The Announcer Frame has been created and saved to {output_csv_path}\")"
   ]
  },
  {
   "cell_type": "code",
   "execution_count": null,
   "id": "7def7ba4-0ac5-44ed-8072-e890dc0e7cc7",
   "metadata": {},
   "outputs": [],
   "source": []
  }
 ],
 "metadata": {
  "kernelspec": {
   "display_name": "Python 3 (ipykernel)",
   "language": "python",
   "name": "python3"
  },
  "language_info": {
   "codemirror_mode": {
    "name": "ipython",
    "version": 3
   },
   "file_extension": ".py",
   "mimetype": "text/x-python",
   "name": "python",
   "nbconvert_exporter": "python",
   "pygments_lexer": "ipython3",
   "version": "3.11.7"
  }
 },
 "nbformat": 4,
 "nbformat_minor": 5
}
